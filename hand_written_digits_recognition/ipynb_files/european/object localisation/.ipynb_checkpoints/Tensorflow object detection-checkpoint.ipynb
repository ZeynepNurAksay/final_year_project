{
 "cells": [
  {
   "cell_type": "code",
   "execution_count": 210,
   "id": "1a09e4b8",
   "metadata": {},
   "outputs": [
    {
     "name": "stdout",
     "output_type": "stream",
     "text": [
      "Requirement already satisfied: labelme in /opt/anaconda3/envs/final_year_project/lib/python3.10/site-packages (5.2.0.post4)\n",
      "Requirement already satisfied: tensorflow in /opt/anaconda3/envs/final_year_project/lib/python3.10/site-packages (2.10.0)\n",
      "Requirement already satisfied: opencv-python in /opt/anaconda3/envs/final_year_project/lib/python3.10/site-packages (4.7.0.72)\n",
      "Requirement already satisfied: matplotlib in /opt/anaconda3/envs/final_year_project/lib/python3.10/site-packages (3.7.1)\n",
      "Requirement already satisfied: albumentations in /opt/anaconda3/envs/final_year_project/lib/python3.10/site-packages (1.3.0)\n",
      "Requirement already satisfied: qtpy!=1.11.2 in /opt/anaconda3/envs/final_year_project/lib/python3.10/site-packages (from labelme) (2.3.1)\n",
      "Requirement already satisfied: imgviz>=0.11 in /opt/anaconda3/envs/final_year_project/lib/python3.10/site-packages (from labelme) (1.7.2)\n",
      "Requirement already satisfied: natsort>=7.1.0 in /opt/anaconda3/envs/final_year_project/lib/python3.10/site-packages (from labelme) (8.3.1)\n",
      "Requirement already satisfied: termcolor in /opt/anaconda3/envs/final_year_project/lib/python3.10/site-packages (from labelme) (2.1.0)\n",
      "Requirement already satisfied: Pillow>=2.8 in /opt/anaconda3/envs/final_year_project/lib/python3.10/site-packages (from labelme) (9.4.0)\n",
      "Requirement already satisfied: PyYAML in /opt/anaconda3/envs/final_year_project/lib/python3.10/site-packages (from labelme) (6.0)\n",
      "Requirement already satisfied: numpy in /opt/anaconda3/envs/final_year_project/lib/python3.10/site-packages (from labelme) (1.24.2)\n",
      "Requirement already satisfied: absl-py>=1.0.0 in /opt/anaconda3/envs/final_year_project/lib/python3.10/site-packages (from tensorflow) (1.4.0)\n",
      "Requirement already satisfied: gast<=0.4.0,>=0.2.1 in /opt/anaconda3/envs/final_year_project/lib/python3.10/site-packages (from tensorflow) (0.4.0)\n",
      "Requirement already satisfied: h5py>=2.9.0 in /opt/anaconda3/envs/final_year_project/lib/python3.10/site-packages (from tensorflow) (3.7.0)\n",
      "Requirement already satisfied: keras<2.11,>=2.10.0 in /opt/anaconda3/envs/final_year_project/lib/python3.10/site-packages (from tensorflow) (2.10.0)\n",
      "Requirement already satisfied: libclang>=13.0.0 in /opt/anaconda3/envs/final_year_project/lib/python3.10/site-packages (from tensorflow) (16.0.0)\n",
      "Requirement already satisfied: setuptools in /opt/anaconda3/envs/final_year_project/lib/python3.10/site-packages (from tensorflow) (65.6.3)\n",
      "Requirement already satisfied: google-pasta>=0.1.1 in /opt/anaconda3/envs/final_year_project/lib/python3.10/site-packages (from tensorflow) (0.2.0)\n",
      "Requirement already satisfied: keras-preprocessing>=1.1.1 in /opt/anaconda3/envs/final_year_project/lib/python3.10/site-packages (from tensorflow) (1.1.2)\n",
      "Requirement already satisfied: typing-extensions>=3.6.6 in /opt/anaconda3/envs/final_year_project/lib/python3.10/site-packages (from tensorflow) (4.5.0)\n",
      "Requirement already satisfied: tensorboard<2.11,>=2.10 in /opt/anaconda3/envs/final_year_project/lib/python3.10/site-packages (from tensorflow) (2.10.0)\n",
      "Requirement already satisfied: flatbuffers>=2.0 in /opt/anaconda3/envs/final_year_project/lib/python3.10/site-packages (from tensorflow) (23.1.21)\n",
      "Requirement already satisfied: astunparse>=1.6.0 in /opt/anaconda3/envs/final_year_project/lib/python3.10/site-packages (from tensorflow) (1.6.3)\n",
      "Requirement already satisfied: protobuf<3.20,>=3.9.2 in /opt/anaconda3/envs/final_year_project/lib/python3.10/site-packages (from tensorflow) (3.19.6)\n",
      "Requirement already satisfied: packaging in /opt/anaconda3/envs/final_year_project/lib/python3.10/site-packages (from tensorflow) (23.0)\n",
      "Requirement already satisfied: tensorflow-estimator<2.11,>=2.10.0 in /opt/anaconda3/envs/final_year_project/lib/python3.10/site-packages (from tensorflow) (2.10.0)\n",
      "Requirement already satisfied: wrapt>=1.11.0 in /opt/anaconda3/envs/final_year_project/lib/python3.10/site-packages (from tensorflow) (1.14.1)\n",
      "Requirement already satisfied: tensorflow-io-gcs-filesystem>=0.23.1 in /opt/anaconda3/envs/final_year_project/lib/python3.10/site-packages (from tensorflow) (0.32.0)\n",
      "Requirement already satisfied: grpcio<2.0,>=1.24.3 in /opt/anaconda3/envs/final_year_project/lib/python3.10/site-packages (from tensorflow) (1.51.3)\n",
      "Requirement already satisfied: six>=1.12.0 in /opt/anaconda3/envs/final_year_project/lib/python3.10/site-packages (from tensorflow) (1.16.0)\n",
      "Requirement already satisfied: opt-einsum>=2.3.2 in /opt/anaconda3/envs/final_year_project/lib/python3.10/site-packages (from tensorflow) (3.3.0)\n",
      "Requirement already satisfied: python-dateutil>=2.7 in /opt/anaconda3/envs/final_year_project/lib/python3.10/site-packages (from matplotlib) (2.8.2)\n",
      "Requirement already satisfied: fonttools>=4.22.0 in /opt/anaconda3/envs/final_year_project/lib/python3.10/site-packages (from matplotlib) (4.38.0)\n",
      "Requirement already satisfied: cycler>=0.10 in /opt/anaconda3/envs/final_year_project/lib/python3.10/site-packages (from matplotlib) (0.11.0)\n",
      "Requirement already satisfied: contourpy>=1.0.1 in /opt/anaconda3/envs/final_year_project/lib/python3.10/site-packages (from matplotlib) (1.0.7)\n",
      "Requirement already satisfied: pyparsing>=2.3.1 in /opt/anaconda3/envs/final_year_project/lib/python3.10/site-packages (from matplotlib) (3.0.9)\n",
      "Requirement already satisfied: kiwisolver>=1.0.1 in /opt/anaconda3/envs/final_year_project/lib/python3.10/site-packages (from matplotlib) (1.4.4)\n",
      "Requirement already satisfied: qudida>=0.0.4 in /opt/anaconda3/envs/final_year_project/lib/python3.10/site-packages (from albumentations) (0.0.4)\n",
      "Requirement already satisfied: scipy in /opt/anaconda3/envs/final_year_project/lib/python3.10/site-packages (from albumentations) (1.10.1)\n",
      "Requirement already satisfied: opencv-python-headless>=4.1.1 in /opt/anaconda3/envs/final_year_project/lib/python3.10/site-packages (from albumentations) (4.7.0.72)\n",
      "Requirement already satisfied: scikit-image>=0.16.1 in /opt/anaconda3/envs/final_year_project/lib/python3.10/site-packages (from albumentations) (0.19.3)\n",
      "Requirement already satisfied: wheel<1.0,>=0.23.0 in /opt/anaconda3/envs/final_year_project/lib/python3.10/site-packages (from astunparse>=1.6.0->tensorflow) (0.35.1)\n",
      "Requirement already satisfied: scikit-learn>=0.19.1 in /opt/anaconda3/envs/final_year_project/lib/python3.10/site-packages (from qudida>=0.0.4->albumentations) (1.2.2)\n",
      "Requirement already satisfied: tifffile>=2019.7.26 in /opt/anaconda3/envs/final_year_project/lib/python3.10/site-packages (from scikit-image>=0.16.1->albumentations) (2021.7.2)\n",
      "Requirement already satisfied: PyWavelets>=1.1.1 in /opt/anaconda3/envs/final_year_project/lib/python3.10/site-packages (from scikit-image>=0.16.1->albumentations) (1.4.1)\n",
      "Requirement already satisfied: networkx>=2.2 in /opt/anaconda3/envs/final_year_project/lib/python3.10/site-packages (from scikit-image>=0.16.1->albumentations) (2.8.4)\n",
      "Requirement already satisfied: imageio>=2.4.1 in /opt/anaconda3/envs/final_year_project/lib/python3.10/site-packages (from scikit-image>=0.16.1->albumentations) (2.26.0)\n",
      "Requirement already satisfied: tensorboard-plugin-wit>=1.6.0 in /opt/anaconda3/envs/final_year_project/lib/python3.10/site-packages (from tensorboard<2.11,>=2.10->tensorflow) (1.8.1)\n",
      "Requirement already satisfied: google-auth-oauthlib<0.5,>=0.4.1 in /opt/anaconda3/envs/final_year_project/lib/python3.10/site-packages (from tensorboard<2.11,>=2.10->tensorflow) (0.4.6)\n",
      "Requirement already satisfied: markdown>=2.6.8 in /opt/anaconda3/envs/final_year_project/lib/python3.10/site-packages (from tensorboard<2.11,>=2.10->tensorflow) (3.4.1)\n",
      "Requirement already satisfied: google-auth<3,>=1.6.3 in /opt/anaconda3/envs/final_year_project/lib/python3.10/site-packages (from tensorboard<2.11,>=2.10->tensorflow) (2.16.2)\n",
      "Requirement already satisfied: tensorboard-data-server<0.7.0,>=0.6.0 in /opt/anaconda3/envs/final_year_project/lib/python3.10/site-packages (from tensorboard<2.11,>=2.10->tensorflow) (0.6.1)\n",
      "Requirement already satisfied: werkzeug>=1.0.1 in /opt/anaconda3/envs/final_year_project/lib/python3.10/site-packages (from tensorboard<2.11,>=2.10->tensorflow) (2.2.3)\n",
      "Requirement already satisfied: requests<3,>=2.21.0 in /opt/anaconda3/envs/final_year_project/lib/python3.10/site-packages (from tensorboard<2.11,>=2.10->tensorflow) (2.28.2)\n",
      "Requirement already satisfied: rsa<5,>=3.1.4 in /opt/anaconda3/envs/final_year_project/lib/python3.10/site-packages (from google-auth<3,>=1.6.3->tensorboard<2.11,>=2.10->tensorflow) (4.9)\n",
      "Requirement already satisfied: cachetools<6.0,>=2.0.0 in /opt/anaconda3/envs/final_year_project/lib/python3.10/site-packages (from google-auth<3,>=1.6.3->tensorboard<2.11,>=2.10->tensorflow) (5.3.0)\n",
      "Requirement already satisfied: pyasn1-modules>=0.2.1 in /opt/anaconda3/envs/final_year_project/lib/python3.10/site-packages (from google-auth<3,>=1.6.3->tensorboard<2.11,>=2.10->tensorflow) (0.2.8)\n"
     ]
    },
    {
     "name": "stdout",
     "output_type": "stream",
     "text": [
      "Requirement already satisfied: requests-oauthlib>=0.7.0 in /opt/anaconda3/envs/final_year_project/lib/python3.10/site-packages (from google-auth-oauthlib<0.5,>=0.4.1->tensorboard<2.11,>=2.10->tensorflow) (1.3.1)\n",
      "Requirement already satisfied: charset-normalizer<4,>=2 in /opt/anaconda3/envs/final_year_project/lib/python3.10/site-packages (from requests<3,>=2.21.0->tensorboard<2.11,>=2.10->tensorflow) (3.0.1)\n",
      "Requirement already satisfied: certifi>=2017.4.17 in /opt/anaconda3/envs/final_year_project/lib/python3.10/site-packages (from requests<3,>=2.21.0->tensorboard<2.11,>=2.10->tensorflow) (2022.12.7)\n",
      "Requirement already satisfied: idna<4,>=2.5 in /opt/anaconda3/envs/final_year_project/lib/python3.10/site-packages (from requests<3,>=2.21.0->tensorboard<2.11,>=2.10->tensorflow) (3.4)\n",
      "Requirement already satisfied: urllib3<1.27,>=1.21.1 in /opt/anaconda3/envs/final_year_project/lib/python3.10/site-packages (from requests<3,>=2.21.0->tensorboard<2.11,>=2.10->tensorflow) (1.26.15)\n",
      "Requirement already satisfied: joblib>=1.1.1 in /opt/anaconda3/envs/final_year_project/lib/python3.10/site-packages (from scikit-learn>=0.19.1->qudida>=0.0.4->albumentations) (1.1.1)\n",
      "Requirement already satisfied: threadpoolctl>=2.0.0 in /opt/anaconda3/envs/final_year_project/lib/python3.10/site-packages (from scikit-learn>=0.19.1->qudida>=0.0.4->albumentations) (2.2.0)\n",
      "Requirement already satisfied: MarkupSafe>=2.1.1 in /opt/anaconda3/envs/final_year_project/lib/python3.10/site-packages (from werkzeug>=1.0.1->tensorboard<2.11,>=2.10->tensorflow) (2.1.2)\n",
      "Requirement already satisfied: pyasn1<0.5.0,>=0.4.6 in /opt/anaconda3/envs/final_year_project/lib/python3.10/site-packages (from pyasn1-modules>=0.2.1->google-auth<3,>=1.6.3->tensorboard<2.11,>=2.10->tensorflow) (0.4.8)\n",
      "Requirement already satisfied: oauthlib>=3.0.0 in /opt/anaconda3/envs/final_year_project/lib/python3.10/site-packages (from requests-oauthlib>=0.7.0->google-auth-oauthlib<0.5,>=0.4.1->tensorboard<2.11,>=2.10->tensorflow) (3.2.2)\n"
     ]
    }
   ],
   "source": [
    "# install the necessary libraries\n",
    "!pip install labelme tensorflow opencv-python matplotlib albumentations"
   ]
  },
  {
   "cell_type": "code",
   "execution_count": 211,
   "id": "6bde2fa5",
   "metadata": {},
   "outputs": [],
   "source": [
    "!labelme"
   ]
  },
  {
   "cell_type": "code",
   "execution_count": 212,
   "id": "edad0419",
   "metadata": {},
   "outputs": [
    {
     "name": "stderr",
     "output_type": "stream",
     "text": [
      "2023-04-23 06:15:01.558223: I tensorflow/core/platform/cpu_feature_guard.cc:193] This TensorFlow binary is optimized with oneAPI Deep Neural Network Library (oneDNN) to use the following CPU instructions in performance-critical operations:  SSE4.1 SSE4.2\n",
      "To enable them in other operations, rebuild TensorFlow with the appropriate compiler flags.\n"
     ]
    }
   ],
   "source": [
    "import tensorflow as tf\n",
    "import json \n",
    "import numpy as np\n",
    "from matplotlib import pyplot as plt"
   ]
  },
  {
   "cell_type": "code",
   "execution_count": 213,
   "id": "a2b08fbe",
   "metadata": {},
   "outputs": [
    {
     "name": "stderr",
     "output_type": "stream",
     "text": [
      "2023-04-23 06:15:10.384447: I tensorflow/core/platform/cpu_feature_guard.cc:193] This TensorFlow binary is optimized with oneAPI Deep Neural Network Library (oneDNN) to use the following CPU instructions in performance-critical operations:  SSE4.1 SSE4.2\n",
      "To enable them in other operations, rebuild TensorFlow with the appropriate compiler flags.\n"
     ]
    }
   ],
   "source": [
    "images = tf.data.Dataset.list_files('data/images/*.png', shuffle=False)"
   ]
  },
  {
   "cell_type": "code",
   "execution_count": 216,
   "id": "30663550",
   "metadata": {},
   "outputs": [
    {
     "data": {
      "text/plain": [
       "b'data/images/00000.png'"
      ]
     },
     "execution_count": 216,
     "metadata": {},
     "output_type": "execute_result"
    }
   ],
   "source": [
    "images.as_numpy_iterator().next()"
   ]
  },
  {
   "cell_type": "code",
   "execution_count": 217,
   "id": "d0c4c3ac",
   "metadata": {},
   "outputs": [],
   "source": [
    "def load_image(x):\n",
    "    byte_img = tf.io.read_file(x)\n",
    "    img = tf.io.decode_png(byte_img, channels=3)\n",
    "    return img"
   ]
  },
  {
   "cell_type": "code",
   "execution_count": 218,
   "id": "92f76ec3",
   "metadata": {},
   "outputs": [],
   "source": [
    "images = images.map(load_image)"
   ]
  },
  {
   "cell_type": "code",
   "execution_count": 219,
   "id": "02cc729b",
   "metadata": {},
   "outputs": [
    {
     "data": {
      "text/plain": [
       "array([[[0, 0, 0],\n",
       "        [0, 0, 0],\n",
       "        [0, 0, 0],\n",
       "        ...,\n",
       "        [0, 0, 0],\n",
       "        [0, 0, 0],\n",
       "        [0, 0, 0]],\n",
       "\n",
       "       [[0, 0, 0],\n",
       "        [0, 0, 0],\n",
       "        [0, 0, 0],\n",
       "        ...,\n",
       "        [0, 0, 0],\n",
       "        [0, 0, 0],\n",
       "        [0, 0, 0]],\n",
       "\n",
       "       [[0, 0, 0],\n",
       "        [0, 0, 0],\n",
       "        [0, 0, 0],\n",
       "        ...,\n",
       "        [0, 0, 0],\n",
       "        [0, 0, 0],\n",
       "        [0, 0, 0]],\n",
       "\n",
       "       ...,\n",
       "\n",
       "       [[0, 0, 0],\n",
       "        [0, 0, 0],\n",
       "        [0, 0, 0],\n",
       "        ...,\n",
       "        [0, 0, 0],\n",
       "        [0, 0, 0],\n",
       "        [0, 0, 0]],\n",
       "\n",
       "       [[0, 0, 0],\n",
       "        [0, 0, 0],\n",
       "        [0, 0, 0],\n",
       "        ...,\n",
       "        [0, 0, 0],\n",
       "        [0, 0, 0],\n",
       "        [0, 0, 0]],\n",
       "\n",
       "       [[0, 0, 0],\n",
       "        [0, 0, 0],\n",
       "        [0, 0, 0],\n",
       "        ...,\n",
       "        [0, 0, 0],\n",
       "        [0, 0, 0],\n",
       "        [0, 0, 0]]], dtype=uint8)"
      ]
     },
     "execution_count": 219,
     "metadata": {},
     "output_type": "execute_result"
    }
   ],
   "source": [
    "images.as_numpy_iterator().next()"
   ]
  },
  {
   "cell_type": "code",
   "execution_count": 223,
   "id": "016e8134",
   "metadata": {},
   "outputs": [],
   "source": [
    "image_generator = images.batch(4).as_numpy_iterator()"
   ]
  },
  {
   "cell_type": "code",
   "execution_count": 224,
   "id": "b2589ce2",
   "metadata": {},
   "outputs": [],
   "source": [
    "plot_images = image_generator.next()"
   ]
  },
  {
   "cell_type": "code",
   "execution_count": 225,
   "id": "23f1f870",
   "metadata": {},
   "outputs": [
    {
     "data": {
      "image/png": "[encoded data removed]",
      "text/plain": [
       "<Figure size 2000x2000 with 4 Axes>"
      ]
     },
     "metadata": {},
     "output_type": "display_data"
    }
   ],
   "source": [
    "fig, ax = plt.subplots(ncols=4, figsize=(20,20))\n",
    "for idx, image in enumerate(plot_images):\n",
    "    ax[idx].imshow(image)\n",
    "plt.show()"
   ]
  },
  {
   "cell_type": "code",
   "execution_count": 226,
   "id": "c1b599c8",
   "metadata": {},
   "outputs": [],
   "source": [
    "import os\n",
    "for folder in ['train', 'test', 'val']:\n",
    "    for file in os.listdir(os.path.join('data', folder, 'images')):\n",
    "        filename = file.split('.')[0] + '.json'\n",
    "        existing_filepath = os.path.join('data', 'labels', filename)\n",
    "        if os.path.exists(existing_filepath):\n",
    "            new_filepath = os.path.join('data', folder, 'labels', filename)\n",
    "            os.replace(existing_filepath, new_filepath)"
   ]
  },
  {
   "cell_type": "code",
   "execution_count": 227,
   "id": "fecbcc1c",
   "metadata": {},
   "outputs": [],
   "source": [
    "import albumentations as alb"
   ]
  },
  {
   "cell_type": "code",
   "execution_count": 228,
   "id": "833500d7",
   "metadata": {},
   "outputs": [],
   "source": [
    "augmentor = alb.Compose([], bbox_params = alb.BboxParams(format='albumentations', label_fields=['class_labels']))"
   ]
  },
  {
   "cell_type": "code",
   "execution_count": 229,
   "id": "38309335",
   "metadata": {},
   "outputs": [],
   "source": [
    "import cv2\n",
    "image = cv2.imread(os.path.join('data', 'train', 'images', '00000.png'))"
   ]
  },
  {
   "cell_type": "code",
   "execution_count": 230,
   "id": "bf23dba3",
   "metadata": {},
   "outputs": [],
   "source": [
    "import json\n",
    "with open(os.path.join('data', 'train', 'labels', '00000.json'), 'r') as f:\n",
    "    label = json.load(f)"
   ]
  },
  {
   "cell_type": "code",
   "execution_count": 231,
   "id": "e2324b71",
   "metadata": {},
   "outputs": [
    {
     "name": "stdout",
     "output_type": "stream",
     "text": [
      "[[6.256410256410256, 3.3846153846153832], [22.974358974358974, 26.46153846153846]]\n"
     ]
    }
   ],
   "source": [
    "print(label['shapes'][0]['points'])"
   ]
  },
  {
   "cell_type": "code",
   "execution_count": 232,
   "id": "5e35a64f",
   "metadata": {},
   "outputs": [],
   "source": [
    "coords = [0, 0, 0, 0]\n",
    "coords[0] = label['shapes'][0]['points'][0][0]\n",
    "coords[1] = label['shapes'][0]['points'][0][1]\n",
    "coords[2] = label['shapes'][0]['points'][1][0]\n",
    "coords[3] = label['shapes'][0]['points'][1][1]"
   ]
  },
  {
   "cell_type": "code",
   "execution_count": 233,
   "id": "f84b209d",
   "metadata": {},
   "outputs": [
    {
     "data": {
      "text/plain": [
       "[6.256410256410256, 3.3846153846153832, 22.974358974358974, 26.46153846153846]"
      ]
     },
     "execution_count": 233,
     "metadata": {},
     "output_type": "execute_result"
    }
   ],
   "source": [
    "coords"
   ]
  },
  {
   "cell_type": "code",
   "execution_count": 234,
   "id": "45a7a1d4",
   "metadata": {},
   "outputs": [
    {
     "data": {
      "text/plain": [
       "(28, 28, 3)"
      ]
     },
     "execution_count": 234,
     "metadata": {},
     "output_type": "execute_result"
    }
   ],
   "source": [
    "image.shape"
   ]
  },
  {
   "cell_type": "code",
   "execution_count": 235,
   "id": "c9fa5124",
   "metadata": {},
   "outputs": [],
   "source": [
    "# width, height, width, height\n",
    "coords = list(np.divide(coords, (image.shape[1], image.shape[0], image.shape[1], image.shape[0])))"
   ]
  },
  {
   "cell_type": "code",
   "execution_count": 236,
   "id": "1d6e9b24",
   "metadata": {},
   "outputs": [],
   "source": [
    "augmented = augmentor(image = image, bboxes=[coords], class_labels = ['1 (one)'])"
   ]
  },
  {
   "cell_type": "code",
   "execution_count": 237,
   "id": "b190e1bb",
   "metadata": {},
   "outputs": [
    {
     "data": {
      "text/plain": [
       "[(0.22344322344322345,\n",
       "  0.12087912087912082,\n",
       "  0.8205128205128205,\n",
       "  0.945054945054945)]"
      ]
     },
     "execution_count": 237,
     "metadata": {},
     "output_type": "execute_result"
    }
   ],
   "source": [
    "augmented['bboxes']"
   ]
  },
  {
   "cell_type": "code",
   "execution_count": 238,
   "id": "b2edc8bb",
   "metadata": {},
   "outputs": [
    {
     "data": {
      "text/plain": [
       "array([[[0, 0, 0],\n",
       "        [0, 0, 0],\n",
       "        [0, 0, 0],\n",
       "        ...,\n",
       "        [0, 0, 0],\n",
       "        [0, 0, 0],\n",
       "        [0, 0, 0]],\n",
       "\n",
       "       [[0, 0, 0],\n",
       "        [0, 0, 0],\n",
       "        [0, 0, 0],\n",
       "        ...,\n",
       "        [0, 0, 0],\n",
       "        [0, 0, 0],\n",
       "        [0, 0, 0]],\n",
       "\n",
       "       [[0, 0, 0],\n",
       "        [0, 0, 0],\n",
       "        [0, 0, 0],\n",
       "        ...,\n",
       "        [0, 0, 0],\n",
       "        [0, 0, 0],\n",
       "        [0, 0, 0]],\n",
       "\n",
       "       ...,\n",
       "\n",
       "       [[0, 0, 0],\n",
       "        [0, 0, 0],\n",
       "        [0, 0, 0],\n",
       "        ...,\n",
       "        [0, 0, 0],\n",
       "        [0, 0, 0],\n",
       "        [0, 0, 0]],\n",
       "\n",
       "       [[0, 0, 0],\n",
       "        [0, 0, 0],\n",
       "        [0, 0, 0],\n",
       "        ...,\n",
       "        [0, 0, 0],\n",
       "        [0, 0, 0],\n",
       "        [0, 0, 0]],\n",
       "\n",
       "       [[0, 0, 0],\n",
       "        [0, 0, 0],\n",
       "        [0, 0, 0],\n",
       "        ...,\n",
       "        [0, 0, 0],\n",
       "        [0, 0, 0],\n",
       "        [0, 0, 0]]], dtype=uint8)"
      ]
     },
     "execution_count": 238,
     "metadata": {},
     "output_type": "execute_result"
    }
   ],
   "source": [
    "cv2.rectangle(augmented['image'],\n",
    "              tuple(np.multiply(augmented['bboxes'][0][:2], [image.shape[0], image.shape[1]]).astype(int)),\n",
    "              tuple(np.multiply(augmented['bboxes'][0][2:], [image.shape[0], image.shape[1]]).astype(int)),\n",
    "              (255, 0, 0), 2)\n"
   ]
  },
  {
   "cell_type": "code",
   "execution_count": 239,
   "id": "c2286f4f",
   "metadata": {},
   "outputs": [
    {
     "data": {
      "text/plain": [
       "<matplotlib.image.AxesImage at 0x7fac36372050>"
      ]
     },
     "execution_count": 239,
     "metadata": {},
     "output_type": "execute_result"
    },
    {
     "data": {
      "image/png": "[encoded data removed]",
      "text/plain": [
       "<Figure size 640x480 with 1 Axes>"
      ]
     },
     "metadata": {},
     "output_type": "display_data"
    }
   ],
   "source": [
    "from matplotlib import pyplot as plt\n",
    "plt.imshow(augmented['image'])"
   ]
  },
  {
   "cell_type": "code",
   "execution_count": 265,
   "id": "0a868f30",
   "metadata": {},
   "outputs": [],
   "source": [
    "image = cv2.imread(os.path.join('data', 'train', 'images', '69.png'))"
   ]
  },
  {
   "cell_type": "code",
   "execution_count": 266,
   "id": "ad1fd713",
   "metadata": {},
   "outputs": [],
   "source": [
    "with open(os.path.join('data', 'train', 'labels', '69.json'), 'r') as f:\n",
    "    label = json.load(f)"
   ]
  },
  {
   "cell_type": "code",
   "execution_count": 267,
   "id": "8890a312",
   "metadata": {},
   "outputs": [
    {
     "name": "stdout",
     "output_type": "stream",
     "text": [
      "[[160.83333333333334, 437.66666666666663], [258.61111111111114, 542.1111111111111]]\n"
     ]
    }
   ],
   "source": [
    "print(label['shapes'][0]['points'])"
   ]
  },
  {
   "cell_type": "code",
   "execution_count": 268,
   "id": "2ec7628d",
   "metadata": {},
   "outputs": [],
   "source": [
    "coords = [0, 0, 0, 0]\n",
    "coords[0] = label['shapes'][0]['points'][0][0]\n",
    "coords[1] = label['shapes'][0]['points'][0][1]\n",
    "coords[2] = label['shapes'][0]['points'][1][0]\n",
    "coords[3] = label['shapes'][0]['points'][1][1]"
   ]
  },
  {
   "cell_type": "code",
   "execution_count": 269,
   "id": "5f172c7d",
   "metadata": {},
   "outputs": [
    {
     "data": {
      "text/plain": [
       "(842, 595, 3)"
      ]
     },
     "execution_count": 269,
     "metadata": {},
     "output_type": "execute_result"
    }
   ],
   "source": [
    "image.shape"
   ]
  },
  {
   "cell_type": "code",
   "execution_count": 270,
   "id": "eb81d8ef",
   "metadata": {},
   "outputs": [],
   "source": [
    "import numpy as np\n",
    "# width, height, width, height\n",
    "coords = list(np.divide(coords, (image.shape[1], image.shape[0], image.shape[1], image.shape[0])))"
   ]
  },
  {
   "cell_type": "code",
   "execution_count": 271,
   "id": "948c88e3",
   "metadata": {},
   "outputs": [
    {
     "data": {
      "text/plain": [
       "[0.27030812324929976,\n",
       " 0.5197941409342834,\n",
       " 0.43464052287581706,\n",
       " 0.6438374241224597]"
      ]
     },
     "execution_count": 271,
     "metadata": {},
     "output_type": "execute_result"
    }
   ],
   "source": [
    "coords"
   ]
  },
  {
   "cell_type": "code",
   "execution_count": 248,
   "id": "c5056db9",
   "metadata": {},
   "outputs": [],
   "source": [
    "augmented = augmentor(image = image, bboxes=[coords], class_labels = ['1 (one)'])"
   ]
  },
  {
   "cell_type": "code",
   "execution_count": 249,
   "id": "19404a75",
   "metadata": {},
   "outputs": [
    {
     "data": {
      "text/plain": [
       "[(0.27030812324929976,\n",
       "  0.5197941409342834,\n",
       "  0.43464052287581706,\n",
       "  0.6438374241224597)]"
      ]
     },
     "execution_count": 249,
     "metadata": {},
     "output_type": "execute_result"
    }
   ],
   "source": [
    "augmented['bboxes']"
   ]
  },
  {
   "cell_type": "code",
   "execution_count": 250,
   "id": "279d62ed",
   "metadata": {},
   "outputs": [
    {
     "data": {
      "text/plain": [
       "array([[[0, 0, 0],\n",
       "        [0, 0, 0],\n",
       "        [0, 0, 0],\n",
       "        ...,\n",
       "        [0, 0, 0],\n",
       "        [0, 0, 0],\n",
       "        [0, 0, 0]],\n",
       "\n",
       "       [[0, 0, 0],\n",
       "        [0, 0, 0],\n",
       "        [0, 0, 0],\n",
       "        ...,\n",
       "        [0, 0, 0],\n",
       "        [0, 0, 0],\n",
       "        [0, 0, 0]],\n",
       "\n",
       "       [[0, 0, 0],\n",
       "        [0, 0, 0],\n",
       "        [0, 0, 0],\n",
       "        ...,\n",
       "        [0, 0, 0],\n",
       "        [0, 0, 0],\n",
       "        [0, 0, 0]],\n",
       "\n",
       "       ...,\n",
       "\n",
       "       [[0, 0, 0],\n",
       "        [0, 0, 0],\n",
       "        [0, 0, 0],\n",
       "        ...,\n",
       "        [0, 0, 0],\n",
       "        [0, 0, 0],\n",
       "        [0, 0, 0]],\n",
       "\n",
       "       [[0, 0, 0],\n",
       "        [0, 0, 0],\n",
       "        [0, 0, 0],\n",
       "        ...,\n",
       "        [0, 0, 0],\n",
       "        [0, 0, 0],\n",
       "        [0, 0, 0]],\n",
       "\n",
       "       [[0, 0, 0],\n",
       "        [0, 0, 0],\n",
       "        [0, 0, 0],\n",
       "        ...,\n",
       "        [0, 0, 0],\n",
       "        [0, 0, 0],\n",
       "        [0, 0, 0]]], dtype=uint8)"
      ]
     },
     "execution_count": 250,
     "metadata": {},
     "output_type": "execute_result"
    }
   ],
   "source": [
    "cv2.rectangle(augmented['image'],\n",
    "              # width, height            \n",
    "              tuple(np.multiply(augmented['bboxes'][0][:2], [image.shape[1], image.shape[0]]).astype(int)),\n",
    "              tuple(np.multiply(augmented['bboxes'][0][2:], [image.shape[1], image.shape[0]]).astype(int)),\n",
    "              (255, 0, 0), 2)\n",
    "\n"
   ]
  },
  {
   "cell_type": "code",
   "execution_count": 251,
   "id": "e7daec93",
   "metadata": {},
   "outputs": [
    {
     "data": {
      "text/plain": [
       "<matplotlib.image.AxesImage at 0x7fac363dce80>"
      ]
     },
     "execution_count": 251,
     "metadata": {},
     "output_type": "execute_result"
    },
    {
     "data": {
      "image/png": "[encoded data removed]",
      "text/plain": [
       "<Figure size 640x480 with 1 Axes>"
      ]
     },
     "metadata": {},
     "output_type": "display_data"
    }
   ],
   "source": [
    "from matplotlib import pyplot as plt\n",
    "plt.imshow(augmented['image'])"
   ]
  },
  {
   "cell_type": "code",
   "execution_count": 276,
   "id": "339c2a5a",
   "metadata": {},
   "outputs": [
    {
     "name": "stdout",
     "output_type": "stream",
     "text": [
      "image must be numpy array type\n",
      "image must be numpy array type\n",
      "image must be numpy array type\n",
      "image must be numpy array type\n",
      "image must be numpy array type\n"
     ]
    }
   ],
   "source": [
    "for partition in ['train','test','val']: \n",
    "    for image in os.listdir(os.path.join('data', partition, 'images')):\n",
    "        img = cv2.imread(os.path.join('data', partition, 'images', image))\n",
    "\n",
    "        coords = [0,0,0.00001,0.00001]\n",
    "        label_path = os.path.join('data', partition, 'labels', f'{image.split(\".\")[0]}.json')\n",
    "        if os.path.exists(label_path):\n",
    "            with open(label_path, 'r') as f:\n",
    "                label = json.load(f)\n",
    "\n",
    "            coords[0] = label['shapes'][0]['points'][0][0]\n",
    "            coords[1] = label['shapes'][0]['points'][0][1]\n",
    "            coords[2] = label['shapes'][0]['points'][1][0]\n",
    "            coords[3] = label['shapes'][0]['points'][1][1]\n",
    "            coords = list(np.divide(coords, [img.shape[1], img.shape[0], img.shape[1], img.shape[0]]))\n",
    "\n",
    "        try: \n",
    "            augmented = augmentor(image=img, bboxes=[coords], class_labels=['1 (one)'])\n",
    "            cv2.imwrite(os.path.join('aug_data', partition, 'images', f'{image.split(\".\")[0]}.{x}.png'), augmented['image'])\n",
    "\n",
    "            annotation = {}\n",
    "            annotation['image'] = image\n",
    "\n",
    "            if os.path.exists(label_path):\n",
    "                if len(augmented['bboxes']) == 0: \n",
    "                    annotation['bbox'] = [0,0,0,0]\n",
    "                    annotation['class'] = 0 \n",
    "                else: \n",
    "                    annotation['bbox'] = augmented['bboxes'][0]\n",
    "                    annotation['class'] = 1\n",
    "            else: \n",
    "                annotation['bbox'] = [0,0,0,0]\n",
    "                annotation['class'] = 0 \n",
    "\n",
    "\n",
    "            with open(os.path.join('aug_data', partition, 'labels', f'{image.split(\".\")[0]}.{x}.json'), 'w') as f:\n",
    "                json.dump(annotation, f)\n",
    "\n",
    "        except Exception as e:\n",
    "            print(e)"
   ]
  },
  {
   "cell_type": "code",
   "execution_count": 277,
   "id": "950f1fc9",
   "metadata": {},
   "outputs": [],
   "source": [
    "train_images = tf.data.Dataset.list_files('aug_data/train/images/*.png', shuffle=False)\n",
    "train_images = train_images.map(load_image)\n",
    "train_images = train_images.map(lambda x: tf.image.resize(x, (120, 120)))\n",
    "train_images = train_images.map(lambda x: x/255)"
   ]
  },
  {
   "cell_type": "code",
   "execution_count": 278,
   "id": "4a0b9304",
   "metadata": {},
   "outputs": [],
   "source": [
    "test_images = tf.data.Dataset.list_files('aug_data/test/images/*.png', shuffle=False)\n",
    "test_images = test_images.map(load_image)\n",
    "test_images = test_images.map(lambda x: tf.image.resize(x, (120, 120)))\n",
    "test_images = test_images.map(lambda x: x/255)"
   ]
  },
  {
   "cell_type": "code",
   "execution_count": 279,
   "id": "b664c558",
   "metadata": {},
   "outputs": [],
   "source": [
    "val_images = tf.data.Dataset.list_files('aug_data/val/images/*.png', shuffle=False)\n",
    "val_images = val_images.map(load_image)\n",
    "val_images = val_images.map(lambda x: tf.image.resize(x, (120, 120)))\n",
    "val_images = val_images.map(lambda x: x/255)"
   ]
  },
  {
   "cell_type": "code",
   "execution_count": 280,
   "id": "70016f8b",
   "metadata": {},
   "outputs": [],
   "source": [
    "def load_labels(label_path):\n",
    "    with open(label_path.numpy(), 'r', encoding='utf-8') as f:\n",
    "        label = json.load(f)\n",
    "    return [label['class']], label['bbox']"
   ]
  },
  {
   "cell_type": "code",
   "execution_count": 283,
   "id": "a0cee68d",
   "metadata": {},
   "outputs": [],
   "source": [
    "train_labels = tf.data.Dataset.list_files('aug_data/train/labels/*.json', shuffle=False)\n",
    "train_labels = train_labels.map(lambda x: tf.py_function(load_labels, [x], [tf.uint8, tf.float16]))"
   ]
  },
  {
   "cell_type": "code",
   "execution_count": 284,
   "id": "5f46a412",
   "metadata": {},
   "outputs": [],
   "source": [
    "test_labels = tf.data.Dataset.list_files('aug_data/test/labels/*.json', shuffle=False)\n",
    "test_labels = test_labels.map(lambda x: tf.py_function(load_labels, [x], [tf.uint8, tf.float16]))"
   ]
  },
  {
   "cell_type": "code",
   "execution_count": 285,
   "id": "36032c57",
   "metadata": {},
   "outputs": [],
   "source": [
    "val_labels = tf.data.Dataset.list_files('aug_data/val/labels/*.json', shuffle=False)\n",
    "val_labels = val_labels.map(lambda x: tf.py_function(load_labels, [x], [tf.uint8, tf.float16]))"
   ]
  },
  {
   "cell_type": "code",
   "execution_count": 286,
   "id": "6b30aaca",
   "metadata": {},
   "outputs": [],
   "source": [
    "train = tf.data.Dataset.zip((train_images, train_labels))\n",
    "train = train.shuffle(200)\n",
    "train = train.batch(8)\n",
    "train = train.prefetch(4)"
   ]
  },
  {
   "cell_type": "code",
   "execution_count": 287,
   "id": "9fce5c6e",
   "metadata": {},
   "outputs": [],
   "source": [
    "test = tf.data.Dataset.zip((test_images, test_labels))\n",
    "test = test.shuffle(50)\n",
    "test = test.batch(8)\n",
    "test = test.prefetch(4)"
   ]
  },
  {
   "cell_type": "code",
   "execution_count": 288,
   "id": "4a80ab52",
   "metadata": {},
   "outputs": [],
   "source": [
    "val = tf.data.Dataset.zip((val_images, val_labels))\n",
    "val = val.shuffle(50)\n",
    "val = val.batch(8)\n",
    "val = val.prefetch(4)"
   ]
  },
  {
   "cell_type": "code",
   "execution_count": 289,
   "id": "bf20e36b",
   "metadata": {},
   "outputs": [],
   "source": [
    "data_samples = train.as_numpy_iterator()"
   ]
  },
  {
   "cell_type": "code",
   "execution_count": 292,
   "id": "8a8e5b36",
   "metadata": {},
   "outputs": [],
   "source": [
    "res = data_samples.next()"
   ]
  },
  {
   "cell_type": "code",
   "execution_count": 293,
   "id": "a6b5b4b5",
   "metadata": {},
   "outputs": [
    {
     "name": "stderr",
     "output_type": "stream",
     "text": [
      "Clipping input data to the valid range for imshow with RGB data ([0..1] for floats or [0..255] for integers).\n",
      "Clipping input data to the valid range for imshow with RGB data ([0..1] for floats or [0..255] for integers).\n",
      "Clipping input data to the valid range for imshow with RGB data ([0..1] for floats or [0..255] for integers).\n",
      "Clipping input data to the valid range for imshow with RGB data ([0..1] for floats or [0..255] for integers).\n"
     ]
    },
    {
     "data": {
      "image/png": "[encoded data removed]",
      "text/plain": [
       "<Figure size 2000x2000 with 4 Axes>"
      ]
     },
     "metadata": {},
     "output_type": "display_data"
    }
   ],
   "source": [
    "fig, ax = plt.subplots(ncols=4, figsize=(20,20))\n",
    "for idx in range(4): \n",
    "    sample_image = res[0][idx]\n",
    "    sample_coords = res[1][1][idx]\n",
    "    \n",
    "    cv2.rectangle(sample_image, \n",
    "                  tuple(np.multiply(sample_coords[:2], [120,120]).astype(int)),\n",
    "                  tuple(np.multiply(sample_coords[2:], [120,120]).astype(int)), \n",
    "                        (255,0,0), 2)\n",
    "\n",
    "    ax[idx].imshow(sample_image)"
   ]
  },
  {
   "cell_type": "code",
   "execution_count": 294,
   "id": "9b2992cd",
   "metadata": {},
   "outputs": [],
   "source": [
    "from tensorflow.keras.models import Model\n",
    "from tensorflow.keras.layers import Input, Conv2D, Dense, GlobalMaxPooling2D\n",
    "from tensorflow.keras.applications import VGG16"
   ]
  },
  {
   "cell_type": "code",
   "execution_count": 295,
   "id": "49f9813c",
   "metadata": {},
   "outputs": [],
   "source": [
    "vgg = VGG16(include_top=False)"
   ]
  },
  {
   "cell_type": "code",
   "execution_count": 296,
   "id": "96c05b24",
   "metadata": {},
   "outputs": [
    {
     "name": "stdout",
     "output_type": "stream",
     "text": [
      "Model: \"vgg16\"\n",
      "_________________________________________________________________\n",
      " Layer (type)                Output Shape              Param #   \n",
      "=================================================================\n",
      " input_2 (InputLayer)        [(None, None, None, 3)]   0         \n",
      "                                                                 \n",
      " block1_conv1 (Conv2D)       (None, None, None, 64)    1792      \n",
      "                                                                 \n",
      " block1_conv2 (Conv2D)       (None, None, None, 64)    36928     \n",
      "                                                                 \n",
      " block1_pool (MaxPooling2D)  (None, None, None, 64)    0         \n",
      "                                                                 \n",
      " block2_conv1 (Conv2D)       (None, None, None, 128)   73856     \n",
      "                                                                 \n",
      " block2_conv2 (Conv2D)       (None, None, None, 128)   147584    \n",
      "                                                                 \n",
      " block2_pool (MaxPooling2D)  (None, None, None, 128)   0         \n",
      "                                                                 \n",
      " block3_conv1 (Conv2D)       (None, None, None, 256)   295168    \n",
      "                                                                 \n",
      " block3_conv2 (Conv2D)       (None, None, None, 256)   590080    \n",
      "                                                                 \n",
      " block3_conv3 (Conv2D)       (None, None, None, 256)   590080    \n",
      "                                                                 \n",
      " block3_pool (MaxPooling2D)  (None, None, None, 256)   0         \n",
      "                                                                 \n",
      " block4_conv1 (Conv2D)       (None, None, None, 512)   1180160   \n",
      "                                                                 \n",
      " block4_conv2 (Conv2D)       (None, None, None, 512)   2359808   \n",
      "                                                                 \n",
      " block4_conv3 (Conv2D)       (None, None, None, 512)   2359808   \n",
      "                                                                 \n",
      " block4_pool (MaxPooling2D)  (None, None, None, 512)   0         \n",
      "                                                                 \n",
      " block5_conv1 (Conv2D)       (None, None, None, 512)   2359808   \n",
      "                                                                 \n",
      " block5_conv2 (Conv2D)       (None, None, None, 512)   2359808   \n",
      "                                                                 \n",
      " block5_conv3 (Conv2D)       (None, None, None, 512)   2359808   \n",
      "                                                                 \n",
      " block5_pool (MaxPooling2D)  (None, None, None, 512)   0         \n",
      "                                                                 \n",
      "=================================================================\n",
      "Total params: 14,714,688\n",
      "Trainable params: 14,714,688\n",
      "Non-trainable params: 0\n",
      "_________________________________________________________________\n"
     ]
    }
   ],
   "source": [
    "vgg.summary()"
   ]
  },
  {
   "cell_type": "code",
   "execution_count": 298,
   "id": "deb1ed3b",
   "metadata": {},
   "outputs": [],
   "source": [
    "def build_model():\n",
    "    input_layer = Input(shape=(120, 120, 3))\n",
    "    vgg = VGG16(include_top=False)(input_layer)\n",
    "    f1 = GlobalMaxPooling2D()(vgg)\n",
    "    class1 = Dense(2048, activation='relu')(f1)\n",
    "    class2 = Dense(1, activation='sigmoid')(class1)\n",
    "    f2 = GlobalMaxPooling2D()(vgg)\n",
    "    regress1 = Dense(2048, activation='relu')(f2)\n",
    "    regress2 = Dense(4, activation='sigmoid')(regress1)\n",
    "    digit_detector = Model(inputs = input_layer, outputs = [class2, regress2])\n",
    "    return digit_detector"
   ]
  },
  {
   "cell_type": "code",
   "execution_count": 299,
   "id": "a8188800",
   "metadata": {},
   "outputs": [],
   "source": [
    "digit_tracker = build_model()"
   ]
  },
  {
   "cell_type": "code",
   "execution_count": 300,
   "id": "11bc5b17",
   "metadata": {},
   "outputs": [
    {
     "name": "stdout",
     "output_type": "stream",
     "text": [
      "Model: \"model\"\n",
      "__________________________________________________________________________________________________\n",
      " Layer (type)                   Output Shape         Param #     Connected to                     \n",
      "==================================================================================================\n",
      " input_3 (InputLayer)           [(None, 120, 120, 3  0           []                               \n",
      "                                )]                                                                \n",
      "                                                                                                  \n",
      " vgg16 (Functional)             (None, None, None,   14714688    ['input_3[0][0]']                \n",
      "                                512)                                                              \n",
      "                                                                                                  \n",
      " global_max_pooling2d (GlobalMa  (None, 512)         0           ['vgg16[0][0]']                  \n",
      " xPooling2D)                                                                                      \n",
      "                                                                                                  \n",
      " global_max_pooling2d_1 (Global  (None, 512)         0           ['vgg16[0][0]']                  \n",
      " MaxPooling2D)                                                                                    \n",
      "                                                                                                  \n",
      " dense (Dense)                  (None, 2048)         1050624     ['global_max_pooling2d[0][0]']   \n",
      "                                                                                                  \n",
      " dense_2 (Dense)                (None, 2048)         1050624     ['global_max_pooling2d_1[0][0]'] \n",
      "                                                                                                  \n",
      " dense_1 (Dense)                (None, 1)            2049        ['dense[0][0]']                  \n",
      "                                                                                                  \n",
      " dense_3 (Dense)                (None, 4)            8196        ['dense_2[0][0]']                \n",
      "                                                                                                  \n",
      "==================================================================================================\n",
      "Total params: 16,826,181\n",
      "Trainable params: 16,826,181\n",
      "Non-trainable params: 0\n",
      "__________________________________________________________________________________________________\n"
     ]
    }
   ],
   "source": [
    "digit_tracker.summary()"
   ]
  },
  {
   "cell_type": "code",
   "execution_count": 301,
   "id": "6d8db363",
   "metadata": {},
   "outputs": [],
   "source": [
    "X, y = train.as_numpy_iterator().next()"
   ]
  },
  {
   "cell_type": "code",
   "execution_count": 302,
   "id": "6b8b28e3",
   "metadata": {},
   "outputs": [
    {
     "data": {
      "text/plain": [
       "(8, 120, 120, 3)"
      ]
     },
     "execution_count": 302,
     "metadata": {},
     "output_type": "execute_result"
    }
   ],
   "source": [
    "X.shape"
   ]
  },
  {
   "cell_type": "code",
   "execution_count": 303,
   "id": "de8d753a",
   "metadata": {},
   "outputs": [
    {
     "name": "stdout",
     "output_type": "stream",
     "text": [
      "1/1 [==============================] - 1s 871ms/step\n"
     ]
    }
   ],
   "source": [
    "classes, coords = digit_tracker.predict(X)"
   ]
  },
  {
   "cell_type": "code",
   "execution_count": 304,
   "id": "eb17177b",
   "metadata": {},
   "outputs": [
    {
     "data": {
      "text/plain": [
       "(array([[0.5902718 ],\n",
       "        [0.57775635],\n",
       "        [0.5658648 ],\n",
       "        [0.55935144],\n",
       "        [0.5497619 ],\n",
       "        [0.57210547],\n",
       "        [0.53069186],\n",
       "        [0.5970175 ]], dtype=float32),\n",
       " array([[0.46155414, 0.53022194, 0.49581245, 0.3757223 ],\n",
       "        [0.41955742, 0.522219  , 0.51728135, 0.4426769 ],\n",
       "        [0.42810827, 0.5176917 , 0.5569436 , 0.34086663],\n",
       "        [0.4015939 , 0.5041033 , 0.5106767 , 0.40841088],\n",
       "        [0.4336821 , 0.54755396, 0.5329048 , 0.42054272],\n",
       "        [0.41522682, 0.52773637, 0.5349481 , 0.4122545 ],\n",
       "        [0.4437307 , 0.5357823 , 0.5195302 , 0.4341613 ],\n",
       "        [0.42875987, 0.5400768 , 0.5123682 , 0.4173513 ]], dtype=float32))"
      ]
     },
     "execution_count": 304,
     "metadata": {},
     "output_type": "execute_result"
    }
   ],
   "source": [
    "classes, coords"
   ]
  },
  {
   "cell_type": "code",
   "execution_count": 305,
   "id": "5b9ee26b",
   "metadata": {},
   "outputs": [],
   "source": [
    "batches_per_epoch = len(train)\n",
    "lr_decay = (1./0.75 -1)/batches_per_epoch"
   ]
  },
  {
   "cell_type": "code",
   "execution_count": 306,
   "id": "6ee2cc9b",
   "metadata": {},
   "outputs": [],
   "source": [
    "opt = tf.keras.optimizers.Adam(learning_rate=0.0001, decay=lr_decay)"
   ]
  },
  {
   "cell_type": "code",
   "execution_count": 307,
   "id": "e85ed9fe",
   "metadata": {},
   "outputs": [],
   "source": [
    "def localization_loss(y_true, yhat):            \n",
    "    delta_coord = tf.reduce_sum(tf.square(y_true[:,:2] - yhat[:,:2]))\n",
    "                  \n",
    "    h_true = y_true[:,3] - y_true[:,1] \n",
    "    w_true = y_true[:,2] - y_true[:,0] \n",
    "\n",
    "    h_pred = yhat[:,3] - yhat[:,1] \n",
    "    w_pred = yhat[:,2] - yhat[:,0] \n",
    "    \n",
    "    delta_size = tf.reduce_sum(tf.square(w_true - w_pred) + tf.square(h_true-h_pred))\n",
    "    \n",
    "    return delta_coord + delta_size\n"
   ]
  },
  {
   "cell_type": "code",
   "execution_count": 308,
   "id": "253c2aa4",
   "metadata": {},
   "outputs": [],
   "source": [
    "classloss = tf.keras.losses.BinaryCrossentropy()\n",
    "regressloss = localization_loss"
   ]
  },
  {
   "cell_type": "code",
   "execution_count": 309,
   "id": "01e64dbc",
   "metadata": {},
   "outputs": [
    {
     "data": {
      "text/plain": [
       "<tf.Tensor: shape=(), dtype=float32, numpy=7.57522>"
      ]
     },
     "execution_count": 309,
     "metadata": {},
     "output_type": "execute_result"
    }
   ],
   "source": [
    "localization_loss(y[1], coords)"
   ]
  },
  {
   "cell_type": "code",
   "execution_count": 310,
   "id": "f66cb3a5",
   "metadata": {},
   "outputs": [
    {
     "data": {
      "text/plain": [
       "<tf.Tensor: shape=(), dtype=float32, numpy=0.5665294>"
      ]
     },
     "execution_count": 310,
     "metadata": {},
     "output_type": "execute_result"
    }
   ],
   "source": [
    "classloss(y[0], classes)"
   ]
  },
  {
   "cell_type": "code",
   "execution_count": 311,
   "id": "21c6ec40",
   "metadata": {},
   "outputs": [
    {
     "data": {
      "text/plain": [
       "<tf.Tensor: shape=(), dtype=float32, numpy=7.57522>"
      ]
     },
     "execution_count": 311,
     "metadata": {},
     "output_type": "execute_result"
    }
   ],
   "source": [
    "regressloss(y[1], coords)"
   ]
  },
  {
   "cell_type": "code",
   "execution_count": 312,
   "id": "2cb0791a",
   "metadata": {},
   "outputs": [],
   "source": [
    "class Digit_Tracker(Model): \n",
    "    def __init__(self, digit_tracker,  **kwargs): \n",
    "        super().__init__(**kwargs)\n",
    "        self.model = digit_tracker\n",
    "\n",
    "    def compile(self, opt, classloss, localizationloss, **kwargs):\n",
    "        super().compile(**kwargs)\n",
    "        self.closs = classloss\n",
    "        self.lloss = localizationloss\n",
    "        self.opt = opt\n",
    "    \n",
    "    def train_step(self, batch, **kwargs): \n",
    "        \n",
    "        X, y = batch\n",
    "        \n",
    "        with tf.GradientTape() as tape: \n",
    "            classes, coords = self.model(X, training=True)\n",
    "            \n",
    "            batch_classloss = self.closs(y[0], classes)\n",
    "            batch_localizationloss = self.lloss(tf.cast(y[1], tf.float32), coords)\n",
    "            \n",
    "            total_loss = batch_localizationloss+0.5*batch_classloss\n",
    "            \n",
    "            grad = tape.gradient(total_loss, self.model.trainable_variables)\n",
    "        \n",
    "        opt.apply_gradients(zip(grad, self.model.trainable_variables))\n",
    "        \n",
    "        return {\"total_loss\":total_loss, \"class_loss\":batch_classloss, \"regress_loss\":batch_localizationloss}\n",
    "    \n",
    "    def test_step(self, batch, **kwargs): \n",
    "        X, y = batch\n",
    "        \n",
    "        classes, coords = self.model(X, training=False)\n",
    "        \n",
    "        batch_classloss = self.closs(y[0], classes)\n",
    "        batch_localizationloss = self.lloss(tf.cast(y[1], tf.float32), coords)\n",
    "        total_loss = batch_localizationloss+0.5*batch_classloss\n",
    "        \n",
    "        return {\"total_loss\":total_loss, \"class_loss\":batch_classloss, \"regress_loss\":batch_localizationloss}\n",
    "        \n",
    "    def call(self, X, **kwargs): \n",
    "        return self.model(X, **kwargs)"
   ]
  },
  {
   "cell_type": "code",
   "execution_count": 313,
   "id": "cf100f4f",
   "metadata": {},
   "outputs": [],
   "source": [
    "model = Digit_Tracker(digit_tracker)"
   ]
  },
  {
   "cell_type": "code",
   "execution_count": 314,
   "id": "3fbfaebc",
   "metadata": {},
   "outputs": [],
   "source": [
    "model.compile(opt, classloss, regressloss)"
   ]
  },
  {
   "cell_type": "code",
   "execution_count": 315,
   "id": "fafb9f4b",
   "metadata": {},
   "outputs": [
    {
     "name": "stdout",
     "output_type": "stream",
     "text": [
      "Epoch 1/50\n",
      "16/16 [==============================] - 28s 2s/step - total_loss: 0.9231 - class_loss: 0.1785 - regress_loss: 0.8338 - val_total_loss: 0.8162 - val_class_loss: 1.0518 - val_regress_loss: 0.2903\n",
      "Epoch 2/50\n",
      "16/16 [==============================] - 30s 2s/step - total_loss: 0.2257 - class_loss: 0.0958 - regress_loss: 0.1778 - val_total_loss: 0.0276 - val_class_loss: 0.0055 - val_regress_loss: 0.0248\n",
      "Epoch 3/50\n",
      "16/16 [==============================] - 30s 2s/step - total_loss: 0.1776 - class_loss: 0.0877 - regress_loss: 0.1338 - val_total_loss: 0.0781 - val_class_loss: 0.0896 - val_regress_loss: 0.0333\n",
      "Epoch 4/50\n",
      "16/16 [==============================] - 31s 2s/step - total_loss: 0.1495 - class_loss: 0.0859 - regress_loss: 0.1066 - val_total_loss: 0.0034 - val_class_loss: 2.3636e-04 - val_regress_loss: 0.0033\n",
      "Epoch 5/50\n",
      "16/16 [==============================] - 33s 2s/step - total_loss: 0.1422 - class_loss: 0.0910 - regress_loss: 0.0967 - val_total_loss: 0.0216 - val_class_loss: 0.0017 - val_regress_loss: 0.0208\n",
      "Epoch 6/50\n",
      "16/16 [==============================] - 37s 2s/step - total_loss: 0.1236 - class_loss: 0.0810 - regress_loss: 0.0831 - val_total_loss: 0.2065 - val_class_loss: 0.1871 - val_regress_loss: 0.1130\n",
      "Epoch 7/50\n",
      "16/16 [==============================] - 36s 2s/step - total_loss: 0.1108 - class_loss: 0.0729 - regress_loss: 0.0743 - val_total_loss: 0.3814 - val_class_loss: 0.5518 - val_regress_loss: 0.1055\n",
      "Epoch 8/50\n",
      "16/16 [==============================] - 37s 2s/step - total_loss: 0.1131 - class_loss: 0.0755 - regress_loss: 0.0754 - val_total_loss: 0.0320 - val_class_loss: 0.0230 - val_regress_loss: 0.0205\n",
      "Epoch 9/50\n",
      "16/16 [==============================] - 35s 2s/step - total_loss: 0.1023 - class_loss: 0.0755 - regress_loss: 0.0646 - val_total_loss: 0.0359 - val_class_loss: 5.3199e-05 - val_regress_loss: 0.0359\n",
      "Epoch 10/50\n",
      "16/16 [==============================] - 41s 3s/step - total_loss: 0.1034 - class_loss: 0.0757 - regress_loss: 0.0656 - val_total_loss: 0.0035 - val_class_loss: 3.0746e-04 - val_regress_loss: 0.0034\n",
      "Epoch 11/50\n",
      "16/16 [==============================] - 40s 2s/step - total_loss: 0.0929 - class_loss: 0.0679 - regress_loss: 0.0590 - val_total_loss: 0.0166 - val_class_loss: 2.4915e-05 - val_regress_loss: 0.0166\n",
      "Epoch 12/50\n",
      "16/16 [==============================] - 43s 3s/step - total_loss: 0.0720 - class_loss: 0.0470 - regress_loss: 0.0485 - val_total_loss: 0.0284 - val_class_loss: 3.9370e-05 - val_regress_loss: 0.0283\n",
      "Epoch 13/50\n",
      "16/16 [==============================] - 38s 2s/step - total_loss: 0.0625 - class_loss: 0.0412 - regress_loss: 0.0419 - val_total_loss: 0.0043 - val_class_loss: 2.6524e-05 - val_regress_loss: 0.0043\n",
      "Epoch 14/50\n",
      "16/16 [==============================] - 39s 2s/step - total_loss: 0.0621 - class_loss: 0.0416 - regress_loss: 0.0413 - val_total_loss: 0.0090 - val_class_loss: 2.1024e-04 - val_regress_loss: 0.0089\n",
      "Epoch 15/50\n",
      "16/16 [==============================] - 37s 2s/step - total_loss: 0.0671 - class_loss: 0.0488 - regress_loss: 0.0427 - val_total_loss: 0.0084 - val_class_loss: 1.6057e-04 - val_regress_loss: 0.0084\n",
      "Epoch 16/50\n",
      "16/16 [==============================] - 38s 2s/step - total_loss: 0.0493 - class_loss: 0.0312 - regress_loss: 0.0337 - val_total_loss: 0.0288 - val_class_loss: 2.7121e-05 - val_regress_loss: 0.0288\n",
      "Epoch 17/50\n",
      "16/16 [==============================] - 39s 2s/step - total_loss: 0.0534 - class_loss: 0.0343 - regress_loss: 0.0363 - val_total_loss: 0.0259 - val_class_loss: 0.0073 - val_regress_loss: 0.0223\n",
      "Epoch 18/50\n",
      "16/16 [==============================] - 41s 3s/step - total_loss: 0.0422 - class_loss: 0.0236 - regress_loss: 0.0304 - val_total_loss: 2.8472 - val_class_loss: 4.7187 - val_regress_loss: 0.4879\n",
      "Epoch 19/50\n",
      "16/16 [==============================] - 44s 3s/step - total_loss: 0.0380 - class_loss: 0.0233 - regress_loss: 0.0263 - val_total_loss: 0.0086 - val_class_loss: 2.6197e-05 - val_regress_loss: 0.0085\n",
      "Epoch 20/50\n",
      "16/16 [==============================] - 44s 3s/step - total_loss: 0.0286 - class_loss: 0.0164 - regress_loss: 0.0204 - val_total_loss: 0.0811 - val_class_loss: 0.1097 - val_regress_loss: 0.0262\n",
      "Epoch 21/50\n",
      "16/16 [==============================] - 39s 2s/step - total_loss: 0.0218 - class_loss: 0.0103 - regress_loss: 0.0166 - val_total_loss: 0.0138 - val_class_loss: 1.2696e-05 - val_regress_loss: 0.0138\n",
      "Epoch 22/50\n",
      "16/16 [==============================] - 37s 2s/step - total_loss: 0.0253 - class_loss: 0.0110 - regress_loss: 0.0197 - val_total_loss: 0.0145 - val_class_loss: 1.9372e-06 - val_regress_loss: 0.0145\n",
      "Epoch 23/50\n",
      "16/16 [==============================] - 38s 2s/step - total_loss: 0.0232 - class_loss: 0.0086 - regress_loss: 0.0189 - val_total_loss: 0.0139 - val_class_loss: 1.5289e-05 - val_regress_loss: 0.0138\n",
      "Epoch 24/50\n",
      "16/16 [==============================] - 39s 2s/step - total_loss: 0.0236 - class_loss: 0.0103 - regress_loss: 0.0185 - val_total_loss: 0.0094 - val_class_loss: 1.2726e-05 - val_regress_loss: 0.0094\n",
      "Epoch 25/50\n",
      "16/16 [==============================] - 40s 2s/step - total_loss: 0.0179 - class_loss: 0.0081 - regress_loss: 0.0139 - val_total_loss: 0.0073 - val_class_loss: 3.1919e-05 - val_regress_loss: 0.0073\n",
      "Epoch 26/50\n",
      "16/16 [==============================] - 39s 2s/step - total_loss: 0.0134 - class_loss: 0.0045 - regress_loss: 0.0111 - val_total_loss: 0.0058 - val_class_loss: 4.7684e-06 - val_regress_loss: 0.0058\n",
      "Epoch 27/50\n",
      "16/16 [==============================] - 39s 2s/step - total_loss: 0.0124 - class_loss: 0.0048 - regress_loss: 0.0100 - val_total_loss: 0.0224 - val_class_loss: 1.2458e-05 - val_regress_loss: 0.0224\n",
      "Epoch 28/50\n",
      "16/16 [==============================] - 39s 2s/step - total_loss: 0.0114 - class_loss: 0.0034 - regress_loss: 0.0097 - val_total_loss: 0.0301 - val_class_loss: 0.0298 - val_regress_loss: 0.0152\n",
      "Epoch 29/50\n",
      "16/16 [==============================] - 39s 2s/step - total_loss: 0.0100 - class_loss: 0.0030 - regress_loss: 0.0085 - val_total_loss: 0.0189 - val_class_loss: 1.3113e-06 - val_regress_loss: 0.0189\n",
      "Epoch 30/50\n",
      "16/16 [==============================] - 40s 2s/step - total_loss: 0.0085 - class_loss: 0.0025 - regress_loss: 0.0072 - val_total_loss: 0.0075 - val_class_loss: 5.9250e-05 - val_regress_loss: 0.0075\n",
      "Epoch 31/50\n",
      "16/16 [==============================] - 41s 3s/step - total_loss: 0.0089 - class_loss: 0.0034 - regress_loss: 0.0072 - val_total_loss: 0.0184 - val_class_loss: 6.6808e-04 - val_regress_loss: 0.0180\n",
      "Epoch 32/50\n",
      "16/16 [==============================] - 43s 3s/step - total_loss: 0.0077 - class_loss: 0.0021 - regress_loss: 0.0067 - val_total_loss: 0.0098 - val_class_loss: 3.1591e-06 - val_regress_loss: 0.0098\n",
      "Epoch 33/50\n",
      "16/16 [==============================] - 45s 3s/step - total_loss: 0.0078 - class_loss: 0.0022 - regress_loss: 0.0067 - val_total_loss: 0.0201 - val_class_loss: 1.8775e-06 - val_regress_loss: 0.0201\n",
      "Epoch 34/50\n",
      "16/16 [==============================] - 47s 3s/step - total_loss: 0.0062 - class_loss: 0.0018 - regress_loss: 0.0052 - val_total_loss: 0.0225 - val_class_loss: 1.2517e-06 - val_regress_loss: 0.0225\n",
      "Epoch 35/50\n",
      "16/16 [==============================] - 51s 3s/step - total_loss: 0.0065 - class_loss: 0.0021 - regress_loss: 0.0054 - val_total_loss: 0.0212 - val_class_loss: 0.0176 - val_regress_loss: 0.0124\n",
      "Epoch 36/50\n",
      "16/16 [==============================] - 54s 3s/step - total_loss: 0.0055 - class_loss: 0.0015 - regress_loss: 0.0047 - val_total_loss: 0.0148 - val_class_loss: 7.2420e-06 - val_regress_loss: 0.0148\n",
      "Epoch 37/50\n",
      "16/16 [==============================] - 58s 4s/step - total_loss: 0.0049 - class_loss: 0.0013 - regress_loss: 0.0042 - val_total_loss: 0.0042 - val_class_loss: 2.5034e-06 - val_regress_loss: 0.0042\n",
      "Epoch 38/50\n",
      "16/16 [==============================] - 64s 4s/step - total_loss: 0.0057 - class_loss: 0.0018 - regress_loss: 0.0048 - val_total_loss: 0.0057 - val_class_loss: 6.1095e-06 - val_regress_loss: 0.0057\n",
      "Epoch 39/50\n",
      "16/16 [==============================] - 75s 5s/step - total_loss: 0.0049 - class_loss: 0.0011 - regress_loss: 0.0043 - val_total_loss: 0.0119 - val_class_loss: 0.0117 - val_regress_loss: 0.0061\n",
      "Epoch 40/50\n",
      "16/16 [==============================] - 61s 4s/step - total_loss: 0.0043 - class_loss: 0.0011 - regress_loss: 0.0037 - val_total_loss: 0.0194 - val_class_loss: 3.5567e-04 - val_regress_loss: 0.0192\n",
      "Epoch 41/50\n",
      "16/16 [==============================] - 52s 3s/step - total_loss: 0.0042 - class_loss: 0.0010 - regress_loss: 0.0037 - val_total_loss: 0.0124 - val_class_loss: 8.6427e-07 - val_regress_loss: 0.0124\n",
      "Epoch 42/50\n",
      "16/16 [==============================] - 49s 3s/step - total_loss: 0.0039 - class_loss: 9.5416e-04 - regress_loss: 0.0034 - val_total_loss: 0.0096 - val_class_loss: 1.2219e-06 - val_regress_loss: 0.0096\n",
      "Epoch 43/50\n",
      "16/16 [==============================] - 46s 3s/step - total_loss: 0.0037 - class_loss: 8.7199e-04 - regress_loss: 0.0033 - val_total_loss: 0.0155 - val_class_loss: 9.2387e-07 - val_regress_loss: 0.0155\n",
      "Epoch 44/50\n",
      "16/16 [==============================] - 45s 3s/step - total_loss: 0.0039 - class_loss: 8.2170e-04 - regress_loss: 0.0035 - val_total_loss: 0.0042 - val_class_loss: 9.5367e-07 - val_regress_loss: 0.0042\n",
      "Epoch 45/50\n",
      "16/16 [==============================] - 43s 3s/step - total_loss: 0.0040 - class_loss: 0.0011 - regress_loss: 0.0034 - val_total_loss: 0.0043 - val_class_loss: 1.0729e-06 - val_regress_loss: 0.0043\n",
      "Epoch 46/50\n",
      "16/16 [==============================] - 42s 3s/step - total_loss: 0.0038 - class_loss: 7.9433e-04 - regress_loss: 0.0034 - val_total_loss: 0.0015 - val_class_loss: 2.7747e-05 - val_regress_loss: 0.0015\n",
      "Epoch 47/50\n",
      "16/16 [==============================] - 41s 3s/step - total_loss: 0.0034 - class_loss: 8.9576e-04 - regress_loss: 0.0030 - val_total_loss: 0.0050 - val_class_loss: 2.6822e-07 - val_regress_loss: 0.0050\n",
      "Epoch 48/50\n",
      "16/16 [==============================] - 40s 3s/step - total_loss: 0.0032 - class_loss: 7.0991e-04 - regress_loss: 0.0028 - val_total_loss: 0.0141 - val_class_loss: 6.8545e-07 - val_regress_loss: 0.0141\n",
      "Epoch 49/50\n",
      "16/16 [==============================] - 40s 2s/step - total_loss: 0.0028 - class_loss: 6.4940e-04 - regress_loss: 0.0025 - val_total_loss: 0.0123 - val_class_loss: 7.7486e-07 - val_regress_loss: 0.0123\n",
      "Epoch 50/50\n",
      "16/16 [==============================] - 40s 2s/step - total_loss: 0.0025 - class_loss: 6.4337e-04 - regress_loss: 0.0022 - val_total_loss: 0.0064 - val_class_loss: 0.0062 - val_regress_loss: 0.0033\n"
     ]
    }
   ],
   "source": [
    "hist = model.fit(train, epochs=50, validation_data=val)"
   ]
  },
  {
   "cell_type": "code",
   "execution_count": 316,
   "id": "7daaa24e",
   "metadata": {},
   "outputs": [
    {
     "data": {
      "text/plain": [
       "{'total_loss': [0.180551216006279,\n",
       "  0.05262856185436249,\n",
       "  0.06476286798715591,\n",
       "  0.0360260084271431,\n",
       "  0.2926505208015442,\n",
       "  0.13426439464092255,\n",
       "  0.07451869547367096,\n",
       "  0.01541051547974348,\n",
       "  0.108318030834198,\n",
       "  0.20886415243148804,\n",
       "  0.18775907158851624,\n",
       "  0.017749425023794174,\n",
       "  0.007562047801911831,\n",
       "  0.036307815462350845,\n",
       "  0.21031974256038666,\n",
       "  0.01878809556365013,\n",
       "  0.007982471026480198,\n",
       "  0.016068994998931885,\n",
       "  0.10162656754255295,\n",
       "  0.052351213991642,\n",
       "  0.005763069726526737,\n",
       "  0.04017685353755951,\n",
       "  0.00337602524086833,\n",
       "  0.008547758683562279,\n",
       "  0.049264371395111084,\n",
       "  0.004370927810668945,\n",
       "  0.02718985266983509,\n",
       "  0.00939200259745121,\n",
       "  0.006682007107883692,\n",
       "  0.0025200697127729654,\n",
       "  0.021879641339182854,\n",
       "  0.0024537339340895414,\n",
       "  0.001518603996373713,\n",
       "  0.002406066283583641,\n",
       "  0.011682759039103985,\n",
       "  0.00160756625700742,\n",
       "  0.002333136275410652,\n",
       "  0.012674693018198013,\n",
       "  0.0029075362253934145,\n",
       "  0.0008216248243115842,\n",
       "  0.0017226653872057796,\n",
       "  0.0017900790553539991,\n",
       "  0.0026465209666639566,\n",
       "  0.0022861084435135126,\n",
       "  0.005884621758013964,\n",
       "  0.00676762405782938,\n",
       "  0.004197415430098772,\n",
       "  0.003483693115413189,\n",
       "  0.0016406893264502287,\n",
       "  0.0007184724090620875],\n",
       " 'class_loss': [0.055671852082014084,\n",
       "  0.0039991820231080055,\n",
       "  0.024523675441741943,\n",
       "  0.00495576485991478,\n",
       "  0.23372580111026764,\n",
       "  0.12437943369150162,\n",
       "  0.061840299516916275,\n",
       "  0.0025667527224868536,\n",
       "  0.14997218549251556,\n",
       "  0.18670789897441864,\n",
       "  0.1762264221906662,\n",
       "  0.001157269929535687,\n",
       "  1.481189246987924e-05,\n",
       "  0.009286046959459782,\n",
       "  0.17526139318943024,\n",
       "  0.00012796148075722158,\n",
       "  0.00017973071953747422,\n",
       "  0.0013729040510952473,\n",
       "  0.07194173336029053,\n",
       "  0.04102848097681999,\n",
       "  7.715716492384672e-05,\n",
       "  0.02540997974574566,\n",
       "  3.825894236797467e-05,\n",
       "  9.874579518509563e-06,\n",
       "  0.03508353605866432,\n",
       "  4.589575837599114e-06,\n",
       "  0.014858957380056381,\n",
       "  0.0013362496392801404,\n",
       "  0.0009721789974719286,\n",
       "  4.20214337282232e-06,\n",
       "  0.01459647249430418,\n",
       "  5.3843036766920704e-06,\n",
       "  8.046700713748578e-06,\n",
       "  0.00015215284656733274,\n",
       "  0.006131009664386511,\n",
       "  1.1523824468895327e-05,\n",
       "  5.334418892743997e-05,\n",
       "  0.00796241220086813,\n",
       "  0.00010669915354810655,\n",
       "  7.077460031723604e-05,\n",
       "  1.808009869819216e-06,\n",
       "  2.9206337330833776e-06,\n",
       "  3.4272754874109523e-06,\n",
       "  2.9206419185356935e-06,\n",
       "  0.0034234144259244204,\n",
       "  0.0006748060113750398,\n",
       "  0.0023859532084316015,\n",
       "  0.00047213153447955847,\n",
       "  1.2557125046441797e-05,\n",
       "  1.341105758001504e-06],\n",
       " 'regress_loss': [0.1527152955532074,\n",
       "  0.05062897130846977,\n",
       "  0.05250103026628494,\n",
       "  0.033548127859830856,\n",
       "  0.17578762769699097,\n",
       "  0.07207467406988144,\n",
       "  0.04359854757785797,\n",
       "  0.014127139002084732,\n",
       "  0.03333193436264992,\n",
       "  0.11551021039485931,\n",
       "  0.09964586794376373,\n",
       "  0.01717079058289528,\n",
       "  0.007554641924798489,\n",
       "  0.03166479244828224,\n",
       "  0.12268904596567154,\n",
       "  0.018724115565419197,\n",
       "  0.007892605848610401,\n",
       "  0.015382543206214905,\n",
       "  0.06565570086240768,\n",
       "  0.03183697164058685,\n",
       "  0.005724491085857153,\n",
       "  0.027471864596009254,\n",
       "  0.003356895875185728,\n",
       "  0.008542821742594242,\n",
       "  0.031722601503133774,\n",
       "  0.004368633031845093,\n",
       "  0.0197603739798069,\n",
       "  0.008723877370357513,\n",
       "  0.006195917725563049,\n",
       "  0.002517968649044633,\n",
       "  0.014581405557692051,\n",
       "  0.0024510417133569717,\n",
       "  0.0015145806828513741,\n",
       "  0.0023299898020923138,\n",
       "  0.008617253974080086,\n",
       "  0.0016018043970689178,\n",
       "  0.0023064641281962395,\n",
       "  0.008693486452102661,\n",
       "  0.002854186575859785,\n",
       "  0.0007862375350669026,\n",
       "  0.0017217614222317934,\n",
       "  0.001788618741557002,\n",
       "  0.002644807333126664,\n",
       "  0.0022846481297165155,\n",
       "  0.004172914661467075,\n",
       "  0.006430221255868673,\n",
       "  0.0030044387094676495,\n",
       "  0.003247627289965749,\n",
       "  0.0016344108153134584,\n",
       "  0.0007178018568083644],\n",
       " 'val_total_loss': [0.8161730766296387,\n",
       "  0.027561310678720474,\n",
       "  0.07806646823883057,\n",
       "  0.0033735232427716255,\n",
       "  0.021604273468255997,\n",
       "  0.20650675892829895,\n",
       "  0.3813675343990326,\n",
       "  0.03203577175736427,\n",
       "  0.03591775894165039,\n",
       "  0.003532620146870613,\n",
       "  0.016574323177337646,\n",
       "  0.028355218470096588,\n",
       "  0.0042893653735518456,\n",
       "  0.009042962454259396,\n",
       "  0.008437392301857471,\n",
       "  0.028794094920158386,\n",
       "  0.025936389341950417,\n",
       "  2.84720516204834,\n",
       "  0.008560946211218834,\n",
       "  0.08111175894737244,\n",
       "  0.013811135664582253,\n",
       "  0.014497926458716393,\n",
       "  0.013855714350938797,\n",
       "  0.009434150531888008,\n",
       "  0.007323404774069786,\n",
       "  0.005753717385232449,\n",
       "  0.0223846435546875,\n",
       "  0.030136238783597946,\n",
       "  0.018924329429864883,\n",
       "  0.007494849618524313,\n",
       "  0.01835515722632408,\n",
       "  0.009837985970079899,\n",
       "  0.020134994760155678,\n",
       "  0.022499699145555496,\n",
       "  0.021179616451263428,\n",
       "  0.014837460592389107,\n",
       "  0.004196407273411751,\n",
       "  0.005672409664839506,\n",
       "  0.011938601732254028,\n",
       "  0.01936555840075016,\n",
       "  0.012389389798045158,\n",
       "  0.009587825275957584,\n",
       "  0.01549861766397953,\n",
       "  0.004223923198878765,\n",
       "  0.004322792869061232,\n",
       "  0.0014945724979043007,\n",
       "  0.004955563694238663,\n",
       "  0.014138728380203247,\n",
       "  0.012259338051080704,\n",
       "  0.006364766042679548],\n",
       " 'val_class_loss': [1.0518100261688232,\n",
       "  0.005462379194796085,\n",
       "  0.08959884941577911,\n",
       "  0.0002363638486713171,\n",
       "  0.0016734492965042591,\n",
       "  0.1870768666267395,\n",
       "  0.551787793636322,\n",
       "  0.02300163172185421,\n",
       "  5.31985642737709e-05,\n",
       "  0.00030746476841159165,\n",
       "  2.4915098038036376e-05,\n",
       "  3.936973007512279e-05,\n",
       "  2.6524481654632837e-05,\n",
       "  0.00021023719455115497,\n",
       "  0.00016056916501838714,\n",
       "  2.7120719096274115e-05,\n",
       "  0.007343188393861055,\n",
       "  4.71867561340332,\n",
       "  2.619674341985956e-05,\n",
       "  0.10974342375993729,\n",
       "  1.2695901205006521e-05,\n",
       "  1.9371532289369497e-06,\n",
       "  1.5288751455955207e-05,\n",
       "  1.272572080779355e-05,\n",
       "  3.191900395904668e-05,\n",
       "  4.768387952935882e-06,\n",
       "  1.245751445821952e-05,\n",
       "  0.02984805777668953,\n",
       "  1.311303321926971e-06,\n",
       "  5.925043660681695e-05,\n",
       "  0.0006680769147351384,\n",
       "  3.1590534490533173e-06,\n",
       "  1.8775481294142082e-06,\n",
       "  1.251698449777905e-06,\n",
       "  0.017636258155107498,\n",
       "  7.2420061769662425e-06,\n",
       "  2.5033982637978625e-06,\n",
       "  6.109509740781505e-06,\n",
       "  0.011703191325068474,\n",
       "  0.00035566798760555685,\n",
       "  8.642677471470961e-07,\n",
       "  1.2218960137033719e-06,\n",
       "  9.23872676139581e-07,\n",
       "  9.536749985272763e-07,\n",
       "  1.0728842880780576e-06,\n",
       "  2.7746573323383927e-05,\n",
       "  2.6822092991096724e-07,\n",
       "  6.854536422906676e-07,\n",
       "  7.748607231405913e-07,\n",
       "  0.006186089012771845],\n",
       " 'val_regress_loss': [0.29026803374290466,\n",
       "  0.02483012154698372,\n",
       "  0.03326703980565071,\n",
       "  0.003255341202020645,\n",
       "  0.02076754905283451,\n",
       "  0.1129683256149292,\n",
       "  0.10547364503145218,\n",
       "  0.020534956827759743,\n",
       "  0.03589116036891937,\n",
       "  0.0033788876608014107,\n",
       "  0.01656186580657959,\n",
       "  0.028335534036159515,\n",
       "  0.004276103340089321,\n",
       "  0.008937844075262547,\n",
       "  0.008357107639312744,\n",
       "  0.028780534863471985,\n",
       "  0.022264795377850533,\n",
       "  0.48786741495132446,\n",
       "  0.008547848090529442,\n",
       "  0.026240043342113495,\n",
       "  0.013804787769913673,\n",
       "  0.014496957883238792,\n",
       "  0.013848070055246353,\n",
       "  0.009427787736058235,\n",
       "  0.007307445164769888,\n",
       "  0.005751333199441433,\n",
       "  0.02237841486930847,\n",
       "  0.015212208963930607,\n",
       "  0.018923673778772354,\n",
       "  0.007465224247425795,\n",
       "  0.0180211178958416,\n",
       "  0.009836406446993351,\n",
       "  0.020134055987000465,\n",
       "  0.022499073296785355,\n",
       "  0.012361487373709679,\n",
       "  0.014833839610219002,\n",
       "  0.004195155575871468,\n",
       "  0.005669354926794767,\n",
       "  0.006087005604058504,\n",
       "  0.019187724217772484,\n",
       "  0.012388957664370537,\n",
       "  0.009587214328348637,\n",
       "  0.015498155727982521,\n",
       "  0.004223446361720562,\n",
       "  0.004322256427258253,\n",
       "  0.001480699167586863,\n",
       "  0.004955429583787918,\n",
       "  0.014138385653495789,\n",
       "  0.012258950620889664,\n",
       "  0.003271721536293626]}"
      ]
     },
     "execution_count": 316,
     "metadata": {},
     "output_type": "execute_result"
    }
   ],
   "source": [
    "hist.history"
   ]
  },
  {
   "cell_type": "code",
   "execution_count": 317,
   "id": "08a10da4",
   "metadata": {},
   "outputs": [
    {
     "data": {
      "image/png": "[encoded data removed]",
      "text/plain": [
       "<Figure size 2000x500 with 3 Axes>"
      ]
     },
     "metadata": {},
     "output_type": "display_data"
    }
   ],
   "source": [
    "fig, ax = plt.subplots(ncols=3, figsize=(20,5))\n",
    "\n",
    "ax[0].plot(hist.history['total_loss'], color='teal', label='loss')\n",
    "ax[0].plot(hist.history['val_total_loss'], color='orange', label='val loss')\n",
    "ax[0].title.set_text('Loss')\n",
    "ax[0].legend()\n",
    "\n",
    "ax[1].plot(hist.history['class_loss'], color='teal', label='class loss')\n",
    "ax[1].plot(hist.history['val_class_loss'], color='orange', label='val class loss')\n",
    "ax[1].title.set_text('Classification Loss')\n",
    "ax[1].legend()\n",
    "\n",
    "ax[2].plot(hist.history['regress_loss'], color='teal', label='regress loss')\n",
    "ax[2].plot(hist.history['val_regress_loss'], color='orange', label='val regress loss')\n",
    "ax[2].title.set_text('Regression Loss')\n",
    "ax[2].legend()\n",
    "\n",
    "plt.show()"
   ]
  },
  {
   "cell_type": "code",
   "execution_count": 318,
   "id": "3547f8b9",
   "metadata": {},
   "outputs": [],
   "source": [
    "test_data = test.as_numpy_iterator()"
   ]
  },
  {
   "cell_type": "code",
   "execution_count": 319,
   "id": "4a6cced3",
   "metadata": {},
   "outputs": [],
   "source": [
    "test_sample = test_data.next()"
   ]
  },
  {
   "cell_type": "code",
   "execution_count": 320,
   "id": "3c3f10c0",
   "metadata": {},
   "outputs": [
    {
     "name": "stdout",
     "output_type": "stream",
     "text": [
      "1/1 [==============================] - 0s 491ms/step\n"
     ]
    }
   ],
   "source": [
    "yhat = digit_tracker.predict(test_sample[0])"
   ]
  },
  {
   "cell_type": "code",
   "execution_count": 321,
   "id": "de6ec5d7",
   "metadata": {},
   "outputs": [
    {
     "name": "stderr",
     "output_type": "stream",
     "text": [
      "Clipping input data to the valid range for imshow with RGB data ([0..1] for floats or [0..255] for integers).\n",
      "Clipping input data to the valid range for imshow with RGB data ([0..1] for floats or [0..255] for integers).\n",
      "Clipping input data to the valid range for imshow with RGB data ([0..1] for floats or [0..255] for integers).\n",
      "Clipping input data to the valid range for imshow with RGB data ([0..1] for floats or [0..255] for integers).\n"
     ]
    },
    {
     "data": {
      "image/png": "[encoded data removed]",
      "text/plain": [
       "<Figure size 2000x2000 with 4 Axes>"
      ]
     },
     "metadata": {},
     "output_type": "display_data"
    }
   ],
   "source": [
    "fig, ax = plt.subplots(ncols=4, figsize=(20,20))\n",
    "for idx in range(4): \n",
    "    sample_image = test_sample[0][idx]\n",
    "    sample_coords = yhat[1][idx]\n",
    "    \n",
    "    if yhat[0][idx] > 0.9:\n",
    "        cv2.rectangle(sample_image, \n",
    "                      tuple(np.multiply(sample_coords[:2], [120,120]).astype(int)),\n",
    "                      tuple(np.multiply(sample_coords[2:], [120,120]).astype(int)), \n",
    "                            (255,0,0), 2)\n",
    "    \n",
    "    ax[idx].imshow(sample_image)"
   ]
  },
  {
   "cell_type": "code",
   "execution_count": 348,
   "id": "8cb80351",
   "metadata": {},
   "outputs": [
    {
     "name": "stdout",
     "output_type": "stream",
     "text": [
      "1/1 [==============================] - 0s 107ms/step\n"
     ]
    },
    {
     "data": {
      "image/png": "[encoded data removed]",
      "text/plain": [
       "<Figure size 640x480 with 1 Axes>"
      ]
     },
     "metadata": {},
     "output_type": "display_data"
    }
   ],
   "source": [
    "img = cv2.imread('one1.jpeg')\n",
    "ret, img = cv2.threshold(img, 127, 255, cv2.THRESH_BINARY_INV)\n",
    "\n",
    "img = cv2.resize(img, (120, 120), interpolation = cv2.INTER_AREA)\n",
    "\n",
    "cv2.imwrite('one1.jpeg', img)\n",
    "    \n",
    "img = cv2.imread('one1.jpeg')\n",
    "yhat = digit_tracker.predict(np.expand_dims(img/255,0))\n",
    "sample_coords = yhat[1][0]\n",
    "    \n",
    "if yhat[0] > 0.5: \n",
    "    # Controls the main rectangle\n",
    "    cv2.rectangle(img, \n",
    "                  tuple(np.multiply(sample_coords[:2], [img.shape[1], img.shape[0]]).astype(int)),\n",
    "                  tuple(np.multiply(sample_coords[2:], [img.shape[1], img.shape[0]]).astype(int)), \n",
    "                  (255,0,0), 2)\n",
    "    # Controls the label rectangle\n",
    "    cv2.rectangle(img, \n",
    "                  tuple(np.add(np.multiply(sample_coords[:2], [img.shape[1], img.shape[0]]).astype(int), [0,-30])),\n",
    "                  tuple(np.add(np.multiply(sample_coords[:2], [img.shape[1], img.shape[0]]).astype(int), [80,0])), \n",
    "                  (255,0,0), -1)\n",
    "\n",
    "    # Controls the text rendered\n",
    "    cv2.putText(img, '1 (one)', tuple(np.add(np.multiply(sample_coords[:2], [img.shape[1], img.shape[0]]).astype(int), [-5,-5])),\n",
    "                cv2.FONT_HERSHEY_SIMPLEX, 1, (255,255,255), 2, cv2.LINE_AA)\n",
    "    \n",
    "    plt.imshow(img)"
   ]
  },
  {
   "cell_type": "code",
   "execution_count": 351,
   "id": "7aa2a023",
   "metadata": {},
   "outputs": [
    {
     "name": "stdout",
     "output_type": "stream",
     "text": [
      "1/1 [==============================] - 0s 90ms/step\n"
     ]
    },
    {
     "data": {
      "image/png": "[encoded data removed]",
      "text/plain": [
       "<Figure size 640x480 with 1 Axes>"
      ]
     },
     "metadata": {},
     "output_type": "display_data"
    }
   ],
   "source": [
    "img = cv2.imread('one2.jpeg')\n",
    "ret, img = cv2.threshold(img, 127, 255, cv2.THRESH_BINARY_INV)\n",
    "\n",
    "img = cv2.resize(img, (120, 120), interpolation = cv2.INTER_AREA)\n",
    "\n",
    "cv2.imwrite('one2.jpeg', img)\n",
    "    \n",
    "img = cv2.imread('one2.jpeg')\n",
    "yhat = digit_tracker.predict(np.expand_dims(img/255,0))\n",
    "sample_coords = yhat[1][0]\n",
    "    \n",
    "if yhat[0] > 0.5: \n",
    "    # Controls the main rectangle\n",
    "    cv2.rectangle(img, \n",
    "                  tuple(np.multiply(sample_coords[:2], [img.shape[1], img.shape[0]]).astype(int)),\n",
    "                  tuple(np.multiply(sample_coords[2:], [img.shape[1], img.shape[0]]).astype(int)), \n",
    "                  (255,0,0), 2)\n",
    "    # Controls the label rectangle\n",
    "    cv2.rectangle(img, \n",
    "                  tuple(np.add(np.multiply(sample_coords[:2], [img.shape[1], img.shape[0]]).astype(int), [0,-30])),\n",
    "                  tuple(np.add(np.multiply(sample_coords[:2], [img.shape[1], img.shape[0]]).astype(int), [80,0])), \n",
    "                  (255,0,0), -1)\n",
    "\n",
    "    # Controls the text rendered\n",
    "    cv2.putText(img, '1 (one)', tuple(np.add(np.multiply(sample_coords[:2], [img.shape[1], img.shape[0]]).astype(int), [0,-5])),\n",
    "                cv2.FONT_HERSHEY_SIMPLEX, 1, (255,255,255), 2, cv2.LINE_AA)\n",
    "    \n",
    "    plt.imshow(img)"
   ]
  },
  {
   "cell_type": "code",
   "execution_count": 356,
   "id": "c893b37b",
   "metadata": {},
   "outputs": [
    {
     "name": "stdout",
     "output_type": "stream",
     "text": [
      "1/1 [==============================] - 0s 96ms/step\n"
     ]
    },
    {
     "data": {
      "image/png": "[encoded data removed]",
      "text/plain": [
       "<Figure size 640x480 with 1 Axes>"
      ]
     },
     "metadata": {},
     "output_type": "display_data"
    }
   ],
   "source": [
    "img = cv2.imread('one4.jpeg')\n",
    "ret, img = cv2.threshold(img, 127, 255, cv2.THRESH_BINARY_INV)\n",
    "\n",
    "img = cv2.resize(img, (120, 120), interpolation = cv2.INTER_AREA)\n",
    "\n",
    "cv2.imwrite('one4.jpeg', img)\n",
    "    \n",
    "img = cv2.imread('one4.jpeg')\n",
    "yhat = digit_tracker.predict(np.expand_dims(img/255,0))\n",
    "sample_coords = yhat[1][0]\n",
    "    \n",
    "if yhat[0] > 0.5: \n",
    "    # Controls the main rectangle\n",
    "    cv2.rectangle(img, \n",
    "                  tuple(np.multiply(sample_coords[:2], [img.shape[1], img.shape[0]]).astype(int)),\n",
    "                  tuple(np.multiply(sample_coords[2:], [img.shape[1], img.shape[0]]).astype(int)), \n",
    "                  (255,0,0), 2)\n",
    "    # Controls the label rectangle\n",
    "    cv2.rectangle(img, \n",
    "                  tuple(np.add(np.multiply(sample_coords[:2], [img.shape[1], img.shape[0]]).astype(int), [0,-30])),\n",
    "                  tuple(np.add(np.multiply(sample_coords[:2], [img.shape[1], img.shape[0]]).astype(int), [80,0])), \n",
    "                  (255,0,0), -1)\n",
    "\n",
    "    # Controls the text rendered\n",
    "    cv2.putText(img, '1 (one)', tuple(np.add(np.multiply(sample_coords[:2], [img.shape[1], img.shape[0]]).astype(int), [0,-5])),\n",
    "                cv2.FONT_HERSHEY_SIMPLEX, 1, (255,255,255), 2, cv2.LINE_AA)\n",
    "    \n",
    "    plt.imshow(img)"
   ]
  },
  {
   "cell_type": "code",
   "execution_count": null,
   "id": "9580dffa",
   "metadata": {},
   "outputs": [],
   "source": []
  },
  {
   "cell_type": "code",
   "execution_count": null,
   "id": "f7312031",
   "metadata": {},
   "outputs": [],
   "source": []
  },
  {
   "cell_type": "code",
   "execution_count": null,
   "id": "fb6fd108",
   "metadata": {},
   "outputs": [],
   "source": []
  },
  {
   "cell_type": "code",
   "execution_count": null,
   "id": "153d1b4a",
   "metadata": {},
   "outputs": [],
   "source": []
  }
 ],
 "metadata": {
  "kernelspec": {
   "display_name": "final_year_project",
   "language": "python",
   "name": "final_year_project"
  },
  "language_info": {
   "codemirror_mode": {
    "name": "ipython",
    "version": 3
   },
   "file_extension": ".py",
   "mimetype": "text/x-python",
   "name": "python",
   "nbconvert_exporter": "python",
   "pygments_lexer": "ipython3",
   "version": "3.10.9"
  }
 },
 "nbformat": 4,
 "nbformat_minor": 5
}
