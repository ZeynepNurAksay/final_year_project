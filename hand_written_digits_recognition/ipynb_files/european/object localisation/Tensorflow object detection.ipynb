{
 "cells": [
  {
   "cell_type": "code",
   "execution_count": 210,
   "id": "1a09e4b8",
   "metadata": {},
   "outputs": [
    {
     "name": "stdout",
     "output_type": "stream",
     "text": [
      "Requirement already satisfied: labelme in /opt/anaconda3/envs/final_year_project/lib/python3.10/site-packages (5.2.0.post4)\n",
      "Requirement already satisfied: tensorflow in /opt/anaconda3/envs/final_year_project/lib/python3.10/site-packages (2.10.0)\n",
      "Requirement already satisfied: opencv-python in /opt/anaconda3/envs/final_year_project/lib/python3.10/site-packages (4.7.0.72)\n",
      "Requirement already satisfied: matplotlib in /opt/anaconda3/envs/final_year_project/lib/python3.10/site-packages (3.7.1)\n",
      "Requirement already satisfied: albumentations in /opt/anaconda3/envs/final_year_project/lib/python3.10/site-packages (1.3.0)\n",
      "Requirement already satisfied: qtpy!=1.11.2 in /opt/anaconda3/envs/final_year_project/lib/python3.10/site-packages (from labelme) (2.3.1)\n",
      "Requirement already satisfied: imgviz>=0.11 in /opt/anaconda3/envs/final_year_project/lib/python3.10/site-packages (from labelme) (1.7.2)\n",
      "Requirement already satisfied: natsort>=7.1.0 in /opt/anaconda3/envs/final_year_project/lib/python3.10/site-packages (from labelme) (8.3.1)\n",
      "Requirement already satisfied: termcolor in /opt/anaconda3/envs/final_year_project/lib/python3.10/site-packages (from labelme) (2.1.0)\n",
      "Requirement already satisfied: Pillow>=2.8 in /opt/anaconda3/envs/final_year_project/lib/python3.10/site-packages (from labelme) (9.4.0)\n",
      "Requirement already satisfied: PyYAML in /opt/anaconda3/envs/final_year_project/lib/python3.10/site-packages (from labelme) (6.0)\n",
      "Requirement already satisfied: numpy in /opt/anaconda3/envs/final_year_project/lib/python3.10/site-packages (from labelme) (1.24.2)\n",
      "Requirement already satisfied: absl-py>=1.0.0 in /opt/anaconda3/envs/final_year_project/lib/python3.10/site-packages (from tensorflow) (1.4.0)\n",
      "Requirement already satisfied: gast<=0.4.0,>=0.2.1 in /opt/anaconda3/envs/final_year_project/lib/python3.10/site-packages (from tensorflow) (0.4.0)\n",
      "Requirement already satisfied: h5py>=2.9.0 in /opt/anaconda3/envs/final_year_project/lib/python3.10/site-packages (from tensorflow) (3.7.0)\n",
      "Requirement already satisfied: keras<2.11,>=2.10.0 in /opt/anaconda3/envs/final_year_project/lib/python3.10/site-packages (from tensorflow) (2.10.0)\n",
      "Requirement already satisfied: libclang>=13.0.0 in /opt/anaconda3/envs/final_year_project/lib/python3.10/site-packages (from tensorflow) (16.0.0)\n",
      "Requirement already satisfied: setuptools in /opt/anaconda3/envs/final_year_project/lib/python3.10/site-packages (from tensorflow) (65.6.3)\n",
      "Requirement already satisfied: google-pasta>=0.1.1 in /opt/anaconda3/envs/final_year_project/lib/python3.10/site-packages (from tensorflow) (0.2.0)\n",
      "Requirement already satisfied: keras-preprocessing>=1.1.1 in /opt/anaconda3/envs/final_year_project/lib/python3.10/site-packages (from tensorflow) (1.1.2)\n",
      "Requirement already satisfied: typing-extensions>=3.6.6 in /opt/anaconda3/envs/final_year_project/lib/python3.10/site-packages (from tensorflow) (4.5.0)\n",
      "Requirement already satisfied: tensorboard<2.11,>=2.10 in /opt/anaconda3/envs/final_year_project/lib/python3.10/site-packages (from tensorflow) (2.10.0)\n",
      "Requirement already satisfied: flatbuffers>=2.0 in /opt/anaconda3/envs/final_year_project/lib/python3.10/site-packages (from tensorflow) (23.1.21)\n",
      "Requirement already satisfied: astunparse>=1.6.0 in /opt/anaconda3/envs/final_year_project/lib/python3.10/site-packages (from tensorflow) (1.6.3)\n",
      "Requirement already satisfied: protobuf<3.20,>=3.9.2 in /opt/anaconda3/envs/final_year_project/lib/python3.10/site-packages (from tensorflow) (3.19.6)\n",
      "Requirement already satisfied: packaging in /opt/anaconda3/envs/final_year_project/lib/python3.10/site-packages (from tensorflow) (23.0)\n",
      "Requirement already satisfied: tensorflow-estimator<2.11,>=2.10.0 in /opt/anaconda3/envs/final_year_project/lib/python3.10/site-packages (from tensorflow) (2.10.0)\n",
      "Requirement already satisfied: wrapt>=1.11.0 in /opt/anaconda3/envs/final_year_project/lib/python3.10/site-packages (from tensorflow) (1.14.1)\n",
      "Requirement already satisfied: tensorflow-io-gcs-filesystem>=0.23.1 in /opt/anaconda3/envs/final_year_project/lib/python3.10/site-packages (from tensorflow) (0.32.0)\n",
      "Requirement already satisfied: grpcio<2.0,>=1.24.3 in /opt/anaconda3/envs/final_year_project/lib/python3.10/site-packages (from tensorflow) (1.51.3)\n",
      "Requirement already satisfied: six>=1.12.0 in /opt/anaconda3/envs/final_year_project/lib/python3.10/site-packages (from tensorflow) (1.16.0)\n",
      "Requirement already satisfied: opt-einsum>=2.3.2 in /opt/anaconda3/envs/final_year_project/lib/python3.10/site-packages (from tensorflow) (3.3.0)\n",
      "Requirement already satisfied: python-dateutil>=2.7 in /opt/anaconda3/envs/final_year_project/lib/python3.10/site-packages (from matplotlib) (2.8.2)\n",
      "Requirement already satisfied: fonttools>=4.22.0 in /opt/anaconda3/envs/final_year_project/lib/python3.10/site-packages (from matplotlib) (4.38.0)\n",
      "Requirement already satisfied: cycler>=0.10 in /opt/anaconda3/envs/final_year_project/lib/python3.10/site-packages (from matplotlib) (0.11.0)\n",
      "Requirement already satisfied: contourpy>=1.0.1 in /opt/anaconda3/envs/final_year_project/lib/python3.10/site-packages (from matplotlib) (1.0.7)\n",
      "Requirement already satisfied: pyparsing>=2.3.1 in /opt/anaconda3/envs/final_year_project/lib/python3.10/site-packages (from matplotlib) (3.0.9)\n",
      "Requirement already satisfied: kiwisolver>=1.0.1 in /opt/anaconda3/envs/final_year_project/lib/python3.10/site-packages (from matplotlib) (1.4.4)\n",
      "Requirement already satisfied: qudida>=0.0.4 in /opt/anaconda3/envs/final_year_project/lib/python3.10/site-packages (from albumentations) (0.0.4)\n",
      "Requirement already satisfied: scipy in /opt/anaconda3/envs/final_year_project/lib/python3.10/site-packages (from albumentations) (1.10.1)\n",
      "Requirement already satisfied: opencv-python-headless>=4.1.1 in /opt/anaconda3/envs/final_year_project/lib/python3.10/site-packages (from albumentations) (4.7.0.72)\n",
      "Requirement already satisfied: scikit-image>=0.16.1 in /opt/anaconda3/envs/final_year_project/lib/python3.10/site-packages (from albumentations) (0.19.3)\n",
      "Requirement already satisfied: wheel<1.0,>=0.23.0 in /opt/anaconda3/envs/final_year_project/lib/python3.10/site-packages (from astunparse>=1.6.0->tensorflow) (0.35.1)\n",
      "Requirement already satisfied: scikit-learn>=0.19.1 in /opt/anaconda3/envs/final_year_project/lib/python3.10/site-packages (from qudida>=0.0.4->albumentations) (1.2.2)\n",
      "Requirement already satisfied: tifffile>=2019.7.26 in /opt/anaconda3/envs/final_year_project/lib/python3.10/site-packages (from scikit-image>=0.16.1->albumentations) (2021.7.2)\n",
      "Requirement already satisfied: PyWavelets>=1.1.1 in /opt/anaconda3/envs/final_year_project/lib/python3.10/site-packages (from scikit-image>=0.16.1->albumentations) (1.4.1)\n",
      "Requirement already satisfied: networkx>=2.2 in /opt/anaconda3/envs/final_year_project/lib/python3.10/site-packages (from scikit-image>=0.16.1->albumentations) (2.8.4)\n",
      "Requirement already satisfied: imageio>=2.4.1 in /opt/anaconda3/envs/final_year_project/lib/python3.10/site-packages (from scikit-image>=0.16.1->albumentations) (2.26.0)\n",
      "Requirement already satisfied: tensorboard-plugin-wit>=1.6.0 in /opt/anaconda3/envs/final_year_project/lib/python3.10/site-packages (from tensorboard<2.11,>=2.10->tensorflow) (1.8.1)\n",
      "Requirement already satisfied: google-auth-oauthlib<0.5,>=0.4.1 in /opt/anaconda3/envs/final_year_project/lib/python3.10/site-packages (from tensorboard<2.11,>=2.10->tensorflow) (0.4.6)\n",
      "Requirement already satisfied: markdown>=2.6.8 in /opt/anaconda3/envs/final_year_project/lib/python3.10/site-packages (from tensorboard<2.11,>=2.10->tensorflow) (3.4.1)\n",
      "Requirement already satisfied: google-auth<3,>=1.6.3 in /opt/anaconda3/envs/final_year_project/lib/python3.10/site-packages (from tensorboard<2.11,>=2.10->tensorflow) (2.16.2)\n",
      "Requirement already satisfied: tensorboard-data-server<0.7.0,>=0.6.0 in /opt/anaconda3/envs/final_year_project/lib/python3.10/site-packages (from tensorboard<2.11,>=2.10->tensorflow) (0.6.1)\n",
      "Requirement already satisfied: werkzeug>=1.0.1 in /opt/anaconda3/envs/final_year_project/lib/python3.10/site-packages (from tensorboard<2.11,>=2.10->tensorflow) (2.2.3)\n",
      "Requirement already satisfied: requests<3,>=2.21.0 in /opt/anaconda3/envs/final_year_project/lib/python3.10/site-packages (from tensorboard<2.11,>=2.10->tensorflow) (2.28.2)\n",
      "Requirement already satisfied: rsa<5,>=3.1.4 in /opt/anaconda3/envs/final_year_project/lib/python3.10/site-packages (from google-auth<3,>=1.6.3->tensorboard<2.11,>=2.10->tensorflow) (4.9)\n",
      "Requirement already satisfied: cachetools<6.0,>=2.0.0 in /opt/anaconda3/envs/final_year_project/lib/python3.10/site-packages (from google-auth<3,>=1.6.3->tensorboard<2.11,>=2.10->tensorflow) (5.3.0)\n",
      "Requirement already satisfied: pyasn1-modules>=0.2.1 in /opt/anaconda3/envs/final_year_project/lib/python3.10/site-packages (from google-auth<3,>=1.6.3->tensorboard<2.11,>=2.10->tensorflow) (0.2.8)\n"
     ]
    },
    {
     "name": "stdout",
     "output_type": "stream",
     "text": [
      "Requirement already satisfied: requests-oauthlib>=0.7.0 in /opt/anaconda3/envs/final_year_project/lib/python3.10/site-packages (from google-auth-oauthlib<0.5,>=0.4.1->tensorboard<2.11,>=2.10->tensorflow) (1.3.1)\n",
      "Requirement already satisfied: charset-normalizer<4,>=2 in /opt/anaconda3/envs/final_year_project/lib/python3.10/site-packages (from requests<3,>=2.21.0->tensorboard<2.11,>=2.10->tensorflow) (3.0.1)\n",
      "Requirement already satisfied: certifi>=2017.4.17 in /opt/anaconda3/envs/final_year_project/lib/python3.10/site-packages (from requests<3,>=2.21.0->tensorboard<2.11,>=2.10->tensorflow) (2022.12.7)\n",
      "Requirement already satisfied: idna<4,>=2.5 in /opt/anaconda3/envs/final_year_project/lib/python3.10/site-packages (from requests<3,>=2.21.0->tensorboard<2.11,>=2.10->tensorflow) (3.4)\n",
      "Requirement already satisfied: urllib3<1.27,>=1.21.1 in /opt/anaconda3/envs/final_year_project/lib/python3.10/site-packages (from requests<3,>=2.21.0->tensorboard<2.11,>=2.10->tensorflow) (1.26.15)\n",
      "Requirement already satisfied: joblib>=1.1.1 in /opt/anaconda3/envs/final_year_project/lib/python3.10/site-packages (from scikit-learn>=0.19.1->qudida>=0.0.4->albumentations) (1.1.1)\n",
      "Requirement already satisfied: threadpoolctl>=2.0.0 in /opt/anaconda3/envs/final_year_project/lib/python3.10/site-packages (from scikit-learn>=0.19.1->qudida>=0.0.4->albumentations) (2.2.0)\n",
      "Requirement already satisfied: MarkupSafe>=2.1.1 in /opt/anaconda3/envs/final_year_project/lib/python3.10/site-packages (from werkzeug>=1.0.1->tensorboard<2.11,>=2.10->tensorflow) (2.1.2)\n",
      "Requirement already satisfied: pyasn1<0.5.0,>=0.4.6 in /opt/anaconda3/envs/final_year_project/lib/python3.10/site-packages (from pyasn1-modules>=0.2.1->google-auth<3,>=1.6.3->tensorboard<2.11,>=2.10->tensorflow) (0.4.8)\n",
      "Requirement already satisfied: oauthlib>=3.0.0 in /opt/anaconda3/envs/final_year_project/lib/python3.10/site-packages (from requests-oauthlib>=0.7.0->google-auth-oauthlib<0.5,>=0.4.1->tensorboard<2.11,>=2.10->tensorflow) (3.2.2)\n"
     ]
    }
   ],
   "source": [
    "# install the necessary libraries\n",
    "!pip install labelme tensorflow opencv-python matplotlib albumentations"
   ]
  },
  {
   "cell_type": "code",
   "execution_count": 211,
   "id": "6bde2fa5",
   "metadata": {},
   "outputs": [],
   "source": [
    "# open the label me software application\n",
    "!labelme"
   ]
  },
  {
   "cell_type": "code",
   "execution_count": 212,
   "id": "edad0419",
   "metadata": {},
   "outputs": [
    {
     "name": "stderr",
     "output_type": "stream",
     "text": [
      "2023-04-23 06:15:01.558223: I tensorflow/core/platform/cpu_feature_guard.cc:193] This TensorFlow binary is optimized with oneAPI Deep Neural Network Library (oneDNN) to use the following CPU instructions in performance-critical operations:  SSE4.1 SSE4.2\n",
      "To enable them in other operations, rebuild TensorFlow with the appropriate compiler flags.\n"
     ]
    }
   ],
   "source": [
    "# import the necessary libraries\n",
    "import tensorflow as tf\n",
    "import json \n",
    "import numpy as np\n",
    "from matplotlib import pyplot as plt"
   ]
  },
  {
   "cell_type": "code",
   "execution_count": 213,
   "id": "a2b08fbe",
   "metadata": {},
   "outputs": [
    {
     "name": "stderr",
     "output_type": "stream",
     "text": [
      "2023-04-23 06:15:10.384447: I tensorflow/core/platform/cpu_feature_guard.cc:193] This TensorFlow binary is optimized with oneAPI Deep Neural Network Library (oneDNN) to use the following CPU instructions in performance-critical operations:  SSE4.1 SSE4.2\n",
      "To enable them in other operations, rebuild TensorFlow with the appropriate compiler flags.\n"
     ]
    }
   ],
   "source": [
    "# at the starting of the implementation of the object localisation step, all the dataset images were in the images folder.\n",
    "# this lines stores all the images in the folder in order.\n",
    "images = tf.data.Dataset.list_files('data/images/*.png', shuffle=False)"
   ]
  },
  {
   "cell_type": "code",
   "execution_count": 216,
   "id": "30663550",
   "metadata": {},
   "outputs": [
    {
     "data": {
      "text/plain": [
       "b'data/images/00000.png'"
      ]
     },
     "execution_count": 216,
     "metadata": {},
     "output_type": "execute_result"
    }
   ],
   "source": [
    "# returns the first image in the 'images' variable\n",
    "images.as_numpy_iterator().next()"
   ]
  },
  {
   "cell_type": "code",
   "execution_count": 3,
   "id": "d0c4c3ac",
   "metadata": {},
   "outputs": [],
   "source": [
    "# a function to return an image\n",
    "def load_image(x):\n",
    "    # first reads the file\n",
    "    byte_img = tf.io.read_file(x)\n",
    "    # then converts it to a RGB coloured image\n",
    "    img = tf.io.decode_png(byte_img, channels=3)\n",
    "    return img"
   ]
  },
  {
   "cell_type": "code",
   "execution_count": 218,
   "id": "92f76ec3",
   "metadata": {},
   "outputs": [],
   "source": [
    "# map function applies the input method to all elements in the variable\n",
    "images = images.map(load_image)"
   ]
  },
  {
   "cell_type": "code",
   "execution_count": 219,
   "id": "02cc729b",
   "metadata": {},
   "outputs": [
    {
     "data": {
      "text/plain": [
       "array([[[0, 0, 0],\n",
       "        [0, 0, 0],\n",
       "        [0, 0, 0],\n",
       "        ...,\n",
       "        [0, 0, 0],\n",
       "        [0, 0, 0],\n",
       "        [0, 0, 0]],\n",
       "\n",
       "       [[0, 0, 0],\n",
       "        [0, 0, 0],\n",
       "        [0, 0, 0],\n",
       "        ...,\n",
       "        [0, 0, 0],\n",
       "        [0, 0, 0],\n",
       "        [0, 0, 0]],\n",
       "\n",
       "       [[0, 0, 0],\n",
       "        [0, 0, 0],\n",
       "        [0, 0, 0],\n",
       "        ...,\n",
       "        [0, 0, 0],\n",
       "        [0, 0, 0],\n",
       "        [0, 0, 0]],\n",
       "\n",
       "       ...,\n",
       "\n",
       "       [[0, 0, 0],\n",
       "        [0, 0, 0],\n",
       "        [0, 0, 0],\n",
       "        ...,\n",
       "        [0, 0, 0],\n",
       "        [0, 0, 0],\n",
       "        [0, 0, 0]],\n",
       "\n",
       "       [[0, 0, 0],\n",
       "        [0, 0, 0],\n",
       "        [0, 0, 0],\n",
       "        ...,\n",
       "        [0, 0, 0],\n",
       "        [0, 0, 0],\n",
       "        [0, 0, 0]],\n",
       "\n",
       "       [[0, 0, 0],\n",
       "        [0, 0, 0],\n",
       "        [0, 0, 0],\n",
       "        ...,\n",
       "        [0, 0, 0],\n",
       "        [0, 0, 0],\n",
       "        [0, 0, 0]]], dtype=uint8)"
      ]
     },
     "execution_count": 219,
     "metadata": {},
     "output_type": "execute_result"
    }
   ],
   "source": [
    "# returns the first element in the 'images' variable\n",
    "images.as_numpy_iterator().next()"
   ]
  },
  {
   "cell_type": "code",
   "execution_count": 223,
   "id": "016e8134",
   "metadata": {},
   "outputs": [],
   "source": [
    "# assigns the next 4 images each time running this cell\n",
    "image_generator = images.batch(4).as_numpy_iterator()"
   ]
  },
  {
   "cell_type": "code",
   "execution_count": 224,
   "id": "b2589ce2",
   "metadata": {},
   "outputs": [],
   "source": [
    "# gets the 4 images\n",
    "plot_images = image_generator.next()"
   ]
  },
  {
   "cell_type": "code",
   "execution_count": 225,
   "id": "23f1f870",
   "metadata": {},
   "outputs": [
    {
     "data": {
      "image/png": "[encoded data removed]",
      "text/plain": [
       "<Figure size 2000x2000 with 4 Axes>"
      ]
     },
     "metadata": {},
     "output_type": "display_data"
    }
   ],
   "source": [
    "# shows the 4 images\n",
    "fig, ax = plt.subplots(ncols=4, figsize=(20,20))\n",
    "for idx, image in enumerate(plot_images):\n",
    "    ax[idx].imshow(image)\n",
    "plt.show()"
   ]
  },
  {
   "cell_type": "code",
   "execution_count": 226,
   "id": "c1b599c8",
   "metadata": {},
   "outputs": [],
   "source": [
    "# the seperation of the data is done manually. For the training data there are 126 images. For the testing data there are 28 images\n",
    "# For the validation data there are 26 images.\n",
    "# This cell places the label data to correct folders.\n",
    "import os\n",
    "for folder in ['train', 'test', 'val']:\n",
    "    for file in os.listdir(os.path.join('data', folder, 'images')):\n",
    "        filename = file.split('.')[0] + '.json'\n",
    "        existing_filepath = os.path.join('data', 'labels', filename)\n",
    "        if os.path.exists(existing_filepath):\n",
    "            new_filepath = os.path.join('data', folder, 'labels', filename)\n",
    "            os.replace(existing_filepath, new_filepath)"
   ]
  },
  {
   "cell_type": "code",
   "execution_count": 227,
   "id": "fecbcc1c",
   "metadata": {},
   "outputs": [],
   "source": [
    "# a library for doing the augmentation\n",
    "import albumentations as alb"
   ]
  },
  {
   "cell_type": "code",
   "execution_count": 228,
   "id": "833500d7",
   "metadata": {},
   "outputs": [],
   "source": [
    "# no extra augmentation is applied to the images other than using the class label as bounding box parameter.\n",
    "augmentor = alb.Compose([], bbox_params = alb.BboxParams(format='albumentations', label_fields=['class_labels']))"
   ]
  },
  {
   "cell_type": "code",
   "execution_count": 229,
   "id": "38309335",
   "metadata": {},
   "outputs": [],
   "source": [
    "# gets a specific image\n",
    "import cv2\n",
    "image = cv2.imread(os.path.join('data', 'train', 'images', '00000.png'))"
   ]
  },
  {
   "cell_type": "code",
   "execution_count": 230,
   "id": "bf23dba3",
   "metadata": {},
   "outputs": [],
   "source": [
    "# gets the specific label\n",
    "import json\n",
    "with open(os.path.join('data', 'train', 'labels', '00000.json'), 'r') as f:\n",
    "    label = json.load(f)"
   ]
  },
  {
   "cell_type": "code",
   "execution_count": 231,
   "id": "e2324b71",
   "metadata": {},
   "outputs": [
    {
     "name": "stdout",
     "output_type": "stream",
     "text": [
      "[[6.256410256410256, 3.3846153846153832], [22.974358974358974, 26.46153846153846]]\n"
     ]
    }
   ],
   "source": [
    "# gets the bounding box top-left and bottom-right corners values\n",
    "print(label['shapes'][0]['points'])"
   ]
  },
  {
   "cell_type": "code",
   "execution_count": 232,
   "id": "5e35a64f",
   "metadata": {},
   "outputs": [],
   "source": [
    "# assigns the values to a variable\n",
    "coords = [0, 0, 0, 0]\n",
    "coords[0] = label['shapes'][0]['points'][0][0]\n",
    "coords[1] = label['shapes'][0]['points'][0][1]\n",
    "coords[2] = label['shapes'][0]['points'][1][0]\n",
    "coords[3] = label['shapes'][0]['points'][1][1]"
   ]
  },
  {
   "cell_type": "code",
   "execution_count": 233,
   "id": "f84b209d",
   "metadata": {},
   "outputs": [
    {
     "data": {
      "text/plain": [
       "[6.256410256410256, 3.3846153846153832, 22.974358974358974, 26.46153846153846]"
      ]
     },
     "execution_count": 233,
     "metadata": {},
     "output_type": "execute_result"
    }
   ],
   "source": [
    "# returns the coords\n",
    "coords"
   ]
  },
  {
   "cell_type": "code",
   "execution_count": 234,
   "id": "45a7a1d4",
   "metadata": {},
   "outputs": [
    {
     "data": {
      "text/plain": [
       "(28, 28, 3)"
      ]
     },
     "execution_count": 234,
     "metadata": {},
     "output_type": "execute_result"
    }
   ],
   "source": [
    "# returns the shape of the image\n",
    "# it is a 28x28 with RGB colour channel image\n",
    "image.shape"
   ]
  },
  {
   "cell_type": "code",
   "execution_count": 235,
   "id": "c9fa5124",
   "metadata": {},
   "outputs": [],
   "source": [
    "# divides the coordinates with width, height, width, height\n",
    "coords = list(np.divide(coords, (image.shape[1], image.shape[0], image.shape[1], image.shape[0])))"
   ]
  },
  {
   "cell_type": "code",
   "execution_count": 236,
   "id": "1d6e9b24",
   "metadata": {},
   "outputs": [],
   "source": [
    "# apply the augmentor to the image\n",
    "augmented = augmentor(image = image, bboxes=[coords], class_labels = ['1 (one)'])"
   ]
  },
  {
   "cell_type": "code",
   "execution_count": 237,
   "id": "b190e1bb",
   "metadata": {},
   "outputs": [
    {
     "data": {
      "text/plain": [
       "[(0.22344322344322345,\n",
       "  0.12087912087912082,\n",
       "  0.8205128205128205,\n",
       "  0.945054945054945)]"
      ]
     },
     "execution_count": 237,
     "metadata": {},
     "output_type": "execute_result"
    }
   ],
   "source": [
    "# gets the coordinates of the bounding boxes. They are different from the original coordinates since the division is made.\n",
    "augmented['bboxes']"
   ]
  },
  {
   "cell_type": "code",
   "execution_count": 238,
   "id": "b2edc8bb",
   "metadata": {},
   "outputs": [
    {
     "data": {
      "text/plain": [
       "array([[[0, 0, 0],\n",
       "        [0, 0, 0],\n",
       "        [0, 0, 0],\n",
       "        ...,\n",
       "        [0, 0, 0],\n",
       "        [0, 0, 0],\n",
       "        [0, 0, 0]],\n",
       "\n",
       "       [[0, 0, 0],\n",
       "        [0, 0, 0],\n",
       "        [0, 0, 0],\n",
       "        ...,\n",
       "        [0, 0, 0],\n",
       "        [0, 0, 0],\n",
       "        [0, 0, 0]],\n",
       "\n",
       "       [[0, 0, 0],\n",
       "        [0, 0, 0],\n",
       "        [0, 0, 0],\n",
       "        ...,\n",
       "        [0, 0, 0],\n",
       "        [0, 0, 0],\n",
       "        [0, 0, 0]],\n",
       "\n",
       "       ...,\n",
       "\n",
       "       [[0, 0, 0],\n",
       "        [0, 0, 0],\n",
       "        [0, 0, 0],\n",
       "        ...,\n",
       "        [0, 0, 0],\n",
       "        [0, 0, 0],\n",
       "        [0, 0, 0]],\n",
       "\n",
       "       [[0, 0, 0],\n",
       "        [0, 0, 0],\n",
       "        [0, 0, 0],\n",
       "        ...,\n",
       "        [0, 0, 0],\n",
       "        [0, 0, 0],\n",
       "        [0, 0, 0]],\n",
       "\n",
       "       [[0, 0, 0],\n",
       "        [0, 0, 0],\n",
       "        [0, 0, 0],\n",
       "        ...,\n",
       "        [0, 0, 0],\n",
       "        [0, 0, 0],\n",
       "        [0, 0, 0]]], dtype=uint8)"
      ]
     },
     "execution_count": 238,
     "metadata": {},
     "output_type": "execute_result"
    }
   ],
   "source": [
    "# draws the rectangle around the detected object\n",
    "cv2.rectangle(augmented['image'],\n",
    "              tuple(np.multiply(augmented['bboxes'][0][:2], [image.shape[0], image.shape[1]]).astype(int)),\n",
    "              tuple(np.multiply(augmented['bboxes'][0][2:], [image.shape[0], image.shape[1]]).astype(int)),\n",
    "              (255, 0, 0), 2)\n"
   ]
  },
  {
   "cell_type": "code",
   "execution_count": 239,
   "id": "c2286f4f",
   "metadata": {},
   "outputs": [
    {
     "data": {
      "text/plain": [
       "<matplotlib.image.AxesImage at 0x7fac36372050>"
      ]
     },
     "execution_count": 239,
     "metadata": {},
     "output_type": "execute_result"
    },
    {
     "data": {
      "image/png": "[encoded data removed]",
      "text/plain": [
       "<Figure size 640x480 with 1 Axes>"
      ]
     },
     "metadata": {},
     "output_type": "display_data"
    }
   ],
   "source": [
    "# returns the image\n",
    "from matplotlib import pyplot as plt\n",
    "plt.imshow(augmented['image'])"
   ]
  },
  {
   "cell_type": "code",
   "execution_count": 265,
   "id": "0a868f30",
   "metadata": {},
   "outputs": [],
   "source": [
    "# does the same process for a small sized digit\n",
    "image = cv2.imread(os.path.join('data', 'train', 'images', '69.png'))"
   ]
  },
  {
   "cell_type": "code",
   "execution_count": 266,
   "id": "ad1fd713",
   "metadata": {},
   "outputs": [],
   "source": [
    "with open(os.path.join('data', 'train', 'labels', '69.json'), 'r') as f:\n",
    "    label = json.load(f)"
   ]
  },
  {
   "cell_type": "code",
   "execution_count": 267,
   "id": "8890a312",
   "metadata": {},
   "outputs": [
    {
     "name": "stdout",
     "output_type": "stream",
     "text": [
      "[[160.83333333333334, 437.66666666666663], [258.61111111111114, 542.1111111111111]]\n"
     ]
    }
   ],
   "source": [
    "print(label['shapes'][0]['points'])"
   ]
  },
  {
   "cell_type": "code",
   "execution_count": 268,
   "id": "2ec7628d",
   "metadata": {},
   "outputs": [],
   "source": [
    "coords = [0, 0, 0, 0]\n",
    "coords[0] = label['shapes'][0]['points'][0][0]\n",
    "coords[1] = label['shapes'][0]['points'][0][1]\n",
    "coords[2] = label['shapes'][0]['points'][1][0]\n",
    "coords[3] = label['shapes'][0]['points'][1][1]"
   ]
  },
  {
   "cell_type": "code",
   "execution_count": 269,
   "id": "5f172c7d",
   "metadata": {},
   "outputs": [
    {
     "data": {
      "text/plain": [
       "(842, 595, 3)"
      ]
     },
     "execution_count": 269,
     "metadata": {},
     "output_type": "execute_result"
    }
   ],
   "source": [
    "image.shape"
   ]
  },
  {
   "cell_type": "code",
   "execution_count": 270,
   "id": "eb81d8ef",
   "metadata": {},
   "outputs": [],
   "source": [
    "import numpy as np\n",
    "# width, height, width, height\n",
    "coords = list(np.divide(coords, (image.shape[1], image.shape[0], image.shape[1], image.shape[0])))"
   ]
  },
  {
   "cell_type": "code",
   "execution_count": 271,
   "id": "948c88e3",
   "metadata": {},
   "outputs": [
    {
     "data": {
      "text/plain": [
       "[0.27030812324929976,\n",
       " 0.5197941409342834,\n",
       " 0.43464052287581706,\n",
       " 0.6438374241224597]"
      ]
     },
     "execution_count": 271,
     "metadata": {},
     "output_type": "execute_result"
    }
   ],
   "source": [
    "coords"
   ]
  },
  {
   "cell_type": "code",
   "execution_count": 248,
   "id": "c5056db9",
   "metadata": {},
   "outputs": [],
   "source": [
    "augmented = augmentor(image = image, bboxes=[coords], class_labels = ['1 (one)'])"
   ]
  },
  {
   "cell_type": "code",
   "execution_count": 249,
   "id": "19404a75",
   "metadata": {},
   "outputs": [
    {
     "data": {
      "text/plain": [
       "[(0.27030812324929976,\n",
       "  0.5197941409342834,\n",
       "  0.43464052287581706,\n",
       "  0.6438374241224597)]"
      ]
     },
     "execution_count": 249,
     "metadata": {},
     "output_type": "execute_result"
    }
   ],
   "source": [
    "augmented['bboxes']"
   ]
  },
  {
   "cell_type": "code",
   "execution_count": 250,
   "id": "279d62ed",
   "metadata": {},
   "outputs": [
    {
     "data": {
      "text/plain": [
       "array([[[0, 0, 0],\n",
       "        [0, 0, 0],\n",
       "        [0, 0, 0],\n",
       "        ...,\n",
       "        [0, 0, 0],\n",
       "        [0, 0, 0],\n",
       "        [0, 0, 0]],\n",
       "\n",
       "       [[0, 0, 0],\n",
       "        [0, 0, 0],\n",
       "        [0, 0, 0],\n",
       "        ...,\n",
       "        [0, 0, 0],\n",
       "        [0, 0, 0],\n",
       "        [0, 0, 0]],\n",
       "\n",
       "       [[0, 0, 0],\n",
       "        [0, 0, 0],\n",
       "        [0, 0, 0],\n",
       "        ...,\n",
       "        [0, 0, 0],\n",
       "        [0, 0, 0],\n",
       "        [0, 0, 0]],\n",
       "\n",
       "       ...,\n",
       "\n",
       "       [[0, 0, 0],\n",
       "        [0, 0, 0],\n",
       "        [0, 0, 0],\n",
       "        ...,\n",
       "        [0, 0, 0],\n",
       "        [0, 0, 0],\n",
       "        [0, 0, 0]],\n",
       "\n",
       "       [[0, 0, 0],\n",
       "        [0, 0, 0],\n",
       "        [0, 0, 0],\n",
       "        ...,\n",
       "        [0, 0, 0],\n",
       "        [0, 0, 0],\n",
       "        [0, 0, 0]],\n",
       "\n",
       "       [[0, 0, 0],\n",
       "        [0, 0, 0],\n",
       "        [0, 0, 0],\n",
       "        ...,\n",
       "        [0, 0, 0],\n",
       "        [0, 0, 0],\n",
       "        [0, 0, 0]]], dtype=uint8)"
      ]
     },
     "execution_count": 250,
     "metadata": {},
     "output_type": "execute_result"
    }
   ],
   "source": [
    "cv2.rectangle(augmented['image'],\n",
    "              # width, height            \n",
    "              tuple(np.multiply(augmented['bboxes'][0][:2], [image.shape[1], image.shape[0]]).astype(int)),\n",
    "              tuple(np.multiply(augmented['bboxes'][0][2:], [image.shape[1], image.shape[0]]).astype(int)),\n",
    "              (255, 0, 0), 2)\n",
    "\n"
   ]
  },
  {
   "cell_type": "code",
   "execution_count": 251,
   "id": "e7daec93",
   "metadata": {},
   "outputs": [
    {
     "data": {
      "text/plain": [
       "<matplotlib.image.AxesImage at 0x7fac363dce80>"
      ]
     },
     "execution_count": 251,
     "metadata": {},
     "output_type": "execute_result"
    },
    {
     "data": {
      "image/png": "[encoded data removed]",
      "text/plain": [
       "<Figure size 640x480 with 1 Axes>"
      ]
     },
     "metadata": {},
     "output_type": "display_data"
    }
   ],
   "source": [
    "from matplotlib import pyplot as plt\n",
    "plt.imshow(augmented['image'])"
   ]
  },
  {
   "cell_type": "code",
   "execution_count": 276,
   "id": "339c2a5a",
   "metadata": {},
   "outputs": [
    {
     "name": "stdout",
     "output_type": "stream",
     "text": [
      "image must be numpy array type\n",
      "image must be numpy array type\n",
      "image must be numpy array type\n",
      "image must be numpy array type\n",
      "image must be numpy array type\n"
     ]
    }
   ],
   "source": [
    "# copies the images to the augmented data folder which are going to be used for training.\n",
    "for partition in ['train','test','val']: \n",
    "    for image in os.listdir(os.path.join('data', partition, 'images')):\n",
    "        img = cv2.imread(os.path.join('data', partition, 'images', image))\n",
    "\n",
    "        coords = [0,0,0.00001,0.00001]\n",
    "        label_path = os.path.join('data', partition, 'labels', f'{image.split(\".\")[0]}.json')\n",
    "        if os.path.exists(label_path):\n",
    "            with open(label_path, 'r') as f:\n",
    "                label = json.load(f)\n",
    "\n",
    "            coords[0] = label['shapes'][0]['points'][0][0]\n",
    "            coords[1] = label['shapes'][0]['points'][0][1]\n",
    "            coords[2] = label['shapes'][0]['points'][1][0]\n",
    "            coords[3] = label['shapes'][0]['points'][1][1]\n",
    "            coords = list(np.divide(coords, [img.shape[1], img.shape[0], img.shape[1], img.shape[0]]))\n",
    "\n",
    "        try: \n",
    "            augmented = augmentor(image=img, bboxes=[coords], class_labels=['1 (one)'])\n",
    "            cv2.imwrite(os.path.join('aug_data', partition, 'images', f'{image.split(\".\")[0]}.{x}.png'), augmented['image'])\n",
    "\n",
    "            annotation = {}\n",
    "            annotation['image'] = image\n",
    "\n",
    "            if os.path.exists(label_path):\n",
    "                if len(augmented['bboxes']) == 0: \n",
    "                    annotation['bbox'] = [0,0,0,0]\n",
    "                    annotation['class'] = 0 \n",
    "                else: \n",
    "                    annotation['bbox'] = augmented['bboxes'][0]\n",
    "                    annotation['class'] = 1\n",
    "            else: \n",
    "                annotation['bbox'] = [0,0,0,0]\n",
    "                annotation['class'] = 0 \n",
    "\n",
    "\n",
    "            with open(os.path.join('aug_data', partition, 'labels', f'{image.split(\".\")[0]}.{x}.json'), 'w') as f:\n",
    "                json.dump(annotation, f)\n",
    "\n",
    "        except Exception as e:\n",
    "            print(e)"
   ]
  },
  {
   "cell_type": "code",
   "execution_count": 4,
   "id": "950f1fc9",
   "metadata": {},
   "outputs": [],
   "source": [
    "import tensorflow as tf\n",
    "# gets the images from training data folder and preprocesses it.\n",
    "train_images = tf.data.Dataset.list_files('aug_data/train/images/*.png', shuffle=False)\n",
    "train_images = train_images.map(load_image)\n",
    "# resizes it\n",
    "train_images = train_images.map(lambda x: tf.image.resize(x, (120, 120)))\n",
    "# returns the value between 0 and 1\n",
    "train_images = train_images.map(lambda x: x/255)"
   ]
  },
  {
   "cell_type": "code",
   "execution_count": 5,
   "id": "4a0b9304",
   "metadata": {},
   "outputs": [],
   "source": [
    "# gets the images from testing data folder and preprocesses it.\n",
    "test_images = tf.data.Dataset.list_files('aug_data/test/images/*.png', shuffle=False)\n",
    "test_images = test_images.map(load_image)\n",
    "# resizes it\n",
    "test_images = test_images.map(lambda x: tf.image.resize(x, (120, 120)))\n",
    "# returns the value between 0 and 1\n",
    "test_images = test_images.map(lambda x: x/255)"
   ]
  },
  {
   "cell_type": "code",
   "execution_count": 6,
   "id": "b664c558",
   "metadata": {},
   "outputs": [],
   "source": [
    "# gets the images from validation data folder and preprocesses it.\n",
    "val_images = tf.data.Dataset.list_files('aug_data/val/images/*.png', shuffle=False)\n",
    "val_images = val_images.map(load_image)\n",
    "# resizes it\n",
    "val_images = val_images.map(lambda x: tf.image.resize(x, (120, 120)))\n",
    "# returns the value between 0 and 1\n",
    "val_images = val_images.map(lambda x: x/255)"
   ]
  },
  {
   "cell_type": "code",
   "execution_count": 16,
   "id": "70016f8b",
   "metadata": {},
   "outputs": [],
   "source": [
    "import json\n",
    "# gets the label\n",
    "def load_labels(label_path):\n",
    "    with open(label_path.numpy(), 'r', encoding='utf-8') as f:\n",
    "        label = json.load(f)\n",
    "    return [label['class']], label['bbox']"
   ]
  },
  {
   "cell_type": "code",
   "execution_count": 17,
   "id": "a0cee68d",
   "metadata": {},
   "outputs": [],
   "source": [
    "# stores the training labels\n",
    "train_labels = tf.data.Dataset.list_files('aug_data/train/labels/*.json', shuffle=False)\n",
    "train_labels = train_labels.map(lambda x: tf.py_function(load_labels, [x], [tf.uint8, tf.float16]))"
   ]
  },
  {
   "cell_type": "code",
   "execution_count": 18,
   "id": "5f46a412",
   "metadata": {},
   "outputs": [],
   "source": [
    "# stores the testing labels\n",
    "test_labels = tf.data.Dataset.list_files('aug_data/test/labels/*.json', shuffle=False)\n",
    "test_labels = test_labels.map(lambda x: tf.py_function(load_labels, [x], [tf.uint8, tf.float16]))"
   ]
  },
  {
   "cell_type": "code",
   "execution_count": 19,
   "id": "36032c57",
   "metadata": {},
   "outputs": [],
   "source": [
    "# stores the validation labels\n",
    "val_labels = tf.data.Dataset.list_files('aug_data/val/labels/*.json', shuffle=False)\n",
    "val_labels = val_labels.map(lambda x: tf.py_function(load_labels, [x], [tf.uint8, tf.float16]))"
   ]
  },
  {
   "cell_type": "code",
   "execution_count": 20,
   "id": "6b30aaca",
   "metadata": {},
   "outputs": [],
   "source": [
    "# gets the 8 training image\n",
    "train = tf.data.Dataset.zip((train_images, train_labels))\n",
    "train = train.shuffle(200)\n",
    "train = train.batch(8)\n",
    "train = train.prefetch(4)"
   ]
  },
  {
   "cell_type": "code",
   "execution_count": 21,
   "id": "9fce5c6e",
   "metadata": {},
   "outputs": [],
   "source": [
    "# gets the 8 testing image\n",
    "test = tf.data.Dataset.zip((test_images, test_labels))\n",
    "test = test.shuffle(50)\n",
    "test = test.batch(8)\n",
    "test = test.prefetch(4)"
   ]
  },
  {
   "cell_type": "code",
   "execution_count": 22,
   "id": "4a80ab52",
   "metadata": {},
   "outputs": [],
   "source": [
    "# gets the 8 validation image\n",
    "val = tf.data.Dataset.zip((val_images, val_labels))\n",
    "val = val.shuffle(50)\n",
    "val = val.batch(8)\n",
    "val = val.prefetch(4)"
   ]
  },
  {
   "cell_type": "code",
   "execution_count": 23,
   "id": "bf20e36b",
   "metadata": {},
   "outputs": [],
   "source": [
    "# stores the training data as numpy array\n",
    "data_samples = train.as_numpy_iterator()"
   ]
  },
  {
   "cell_type": "code",
   "execution_count": 24,
   "id": "8a8e5b36",
   "metadata": {},
   "outputs": [],
   "source": [
    "# gets the next element in the array\n",
    "res = data_samples.next()"
   ]
  },
  {
   "cell_type": "code",
   "execution_count": 28,
   "id": "a6b5b4b5",
   "metadata": {},
   "outputs": [
    {
     "name": "stderr",
     "output_type": "stream",
     "text": [
      "Clipping input data to the valid range for imshow with RGB data ([0..1] for floats or [0..255] for integers).\n",
      "Clipping input data to the valid range for imshow with RGB data ([0..1] for floats or [0..255] for integers).\n",
      "Clipping input data to the valid range for imshow with RGB data ([0..1] for floats or [0..255] for integers).\n",
      "Clipping input data to the valid range for imshow with RGB data ([0..1] for floats or [0..255] for integers).\n"
     ]
    },
    {
     "data": {
      "image/png": "[encoded data removed]",
      "text/plain": [
       "<Figure size 2000x2000 with 4 Axes>"
      ]
     },
     "metadata": {},
     "output_type": "display_data"
    }
   ],
   "source": [
    "from matplotlib import pyplot as plt\n",
    "import cv2\n",
    "import numpy as np\n",
    "# shows the image\n",
    "fig, ax = plt.subplots(ncols=4, figsize=(20,20))\n",
    "for idx in range(4): \n",
    "    sample_image = res[0][idx]\n",
    "    sample_coords = res[1][1][idx]\n",
    "    \n",
    "    cv2.rectangle(sample_image, \n",
    "                  tuple(np.multiply(sample_coords[:2], [120,120]).astype(int)),\n",
    "                  tuple(np.multiply(sample_coords[2:], [120,120]).astype(int)), \n",
    "                        (255,0,0), 2)\n",
    "\n",
    "    ax[idx].imshow(sample_image)"
   ]
  },
  {
   "cell_type": "code",
   "execution_count": 29,
   "id": "9b2992cd",
   "metadata": {},
   "outputs": [],
   "source": [
    "# import the necessary dependencies for the model\n",
    "from tensorflow.keras.models import Model\n",
    "from tensorflow.keras.layers import Input, Conv2D, Dense, GlobalMaxPooling2D\n",
    "from tensorflow.keras.applications import VGG16"
   ]
  },
  {
   "cell_type": "code",
   "execution_count": 30,
   "id": "49f9813c",
   "metadata": {},
   "outputs": [],
   "source": [
    "# VGG16 CNN model is used for recognition\n",
    "vgg = VGG16(include_top=False)"
   ]
  },
  {
   "cell_type": "code",
   "execution_count": 31,
   "id": "96c05b24",
   "metadata": {},
   "outputs": [
    {
     "name": "stdout",
     "output_type": "stream",
     "text": [
      "Model: \"vgg16\"\n",
      "_________________________________________________________________\n",
      " Layer (type)                Output Shape              Param #   \n",
      "=================================================================\n",
      " input_1 (InputLayer)        [(None, None, None, 3)]   0         \n",
      "                                                                 \n",
      " block1_conv1 (Conv2D)       (None, None, None, 64)    1792      \n",
      "                                                                 \n",
      " block1_conv2 (Conv2D)       (None, None, None, 64)    36928     \n",
      "                                                                 \n",
      " block1_pool (MaxPooling2D)  (None, None, None, 64)    0         \n",
      "                                                                 \n",
      " block2_conv1 (Conv2D)       (None, None, None, 128)   73856     \n",
      "                                                                 \n",
      " block2_conv2 (Conv2D)       (None, None, None, 128)   147584    \n",
      "                                                                 \n",
      " block2_pool (MaxPooling2D)  (None, None, None, 128)   0         \n",
      "                                                                 \n",
      " block3_conv1 (Conv2D)       (None, None, None, 256)   295168    \n",
      "                                                                 \n",
      " block3_conv2 (Conv2D)       (None, None, None, 256)   590080    \n",
      "                                                                 \n",
      " block3_conv3 (Conv2D)       (None, None, None, 256)   590080    \n",
      "                                                                 \n",
      " block3_pool (MaxPooling2D)  (None, None, None, 256)   0         \n",
      "                                                                 \n",
      " block4_conv1 (Conv2D)       (None, None, None, 512)   1180160   \n",
      "                                                                 \n",
      " block4_conv2 (Conv2D)       (None, None, None, 512)   2359808   \n",
      "                                                                 \n",
      " block4_conv3 (Conv2D)       (None, None, None, 512)   2359808   \n",
      "                                                                 \n",
      " block4_pool (MaxPooling2D)  (None, None, None, 512)   0         \n",
      "                                                                 \n",
      " block5_conv1 (Conv2D)       (None, None, None, 512)   2359808   \n",
      "                                                                 \n",
      " block5_conv2 (Conv2D)       (None, None, None, 512)   2359808   \n",
      "                                                                 \n",
      " block5_conv3 (Conv2D)       (None, None, None, 512)   2359808   \n",
      "                                                                 \n",
      " block5_pool (MaxPooling2D)  (None, None, None, 512)   0         \n",
      "                                                                 \n",
      "=================================================================\n",
      "Total params: 14,714,688\n",
      "Trainable params: 14,714,688\n",
      "Non-trainable params: 0\n",
      "_________________________________________________________________\n"
     ]
    }
   ],
   "source": [
    "# information about the VGG16\n",
    "vgg.summary()"
   ]
  },
  {
   "cell_type": "code",
   "execution_count": 32,
   "id": "deb1ed3b",
   "metadata": {},
   "outputs": [],
   "source": [
    "# model is developed\n",
    "def build_model():\n",
    "    input_layer = Input(shape=(120, 120, 3))\n",
    "    vgg = VGG16(include_top=False)(input_layer)\n",
    "    f1 = GlobalMaxPooling2D()(vgg)\n",
    "    class1 = Dense(2048, activation='relu')(f1)\n",
    "    class2 = Dense(1, activation='sigmoid')(class1)\n",
    "    f2 = GlobalMaxPooling2D()(vgg)\n",
    "    regress1 = Dense(2048, activation='relu')(f2)\n",
    "    regress2 = Dense(4, activation='sigmoid')(regress1)\n",
    "    digit_detector = Model(inputs = input_layer, outputs = [class2, regress2])\n",
    "    return digit_detector"
   ]
  },
  {
   "cell_type": "code",
   "execution_count": 33,
   "id": "a8188800",
   "metadata": {},
   "outputs": [],
   "source": [
    "# model is assigned to the variable\n",
    "digit_tracker = build_model()"
   ]
  },
  {
   "cell_type": "code",
   "execution_count": 34,
   "id": "11bc5b17",
   "metadata": {},
   "outputs": [
    {
     "name": "stdout",
     "output_type": "stream",
     "text": [
      "Model: \"model\"\n",
      "__________________________________________________________________________________________________\n",
      " Layer (type)                   Output Shape         Param #     Connected to                     \n",
      "==================================================================================================\n",
      " input_2 (InputLayer)           [(None, 120, 120, 3  0           []                               \n",
      "                                )]                                                                \n",
      "                                                                                                  \n",
      " vgg16 (Functional)             (None, None, None,   14714688    ['input_2[0][0]']                \n",
      "                                512)                                                              \n",
      "                                                                                                  \n",
      " global_max_pooling2d (GlobalMa  (None, 512)         0           ['vgg16[0][0]']                  \n",
      " xPooling2D)                                                                                      \n",
      "                                                                                                  \n",
      " global_max_pooling2d_1 (Global  (None, 512)         0           ['vgg16[0][0]']                  \n",
      " MaxPooling2D)                                                                                    \n",
      "                                                                                                  \n",
      " dense (Dense)                  (None, 2048)         1050624     ['global_max_pooling2d[0][0]']   \n",
      "                                                                                                  \n",
      " dense_2 (Dense)                (None, 2048)         1050624     ['global_max_pooling2d_1[0][0]'] \n",
      "                                                                                                  \n",
      " dense_1 (Dense)                (None, 1)            2049        ['dense[0][0]']                  \n",
      "                                                                                                  \n",
      " dense_3 (Dense)                (None, 4)            8196        ['dense_2[0][0]']                \n",
      "                                                                                                  \n",
      "==================================================================================================\n",
      "Total params: 16,826,181\n",
      "Trainable params: 16,826,181\n",
      "Non-trainable params: 0\n",
      "__________________________________________________________________________________________________\n"
     ]
    }
   ],
   "source": [
    "# model summary\n",
    "digit_tracker.summary()"
   ]
  },
  {
   "cell_type": "code",
   "execution_count": 35,
   "id": "6d8db363",
   "metadata": {},
   "outputs": [],
   "source": [
    "# first variable stores the image\n",
    "# second variable stores the bounding box values\n",
    "X, y = train.as_numpy_iterator().next()"
   ]
  },
  {
   "cell_type": "code",
   "execution_count": 36,
   "id": "6b8b28e3",
   "metadata": {},
   "outputs": [
    {
     "data": {
      "text/plain": [
       "(8, 120, 120, 3)"
      ]
     },
     "execution_count": 36,
     "metadata": {},
     "output_type": "execute_result"
    }
   ],
   "source": [
    "# image shape returned\n",
    "X.shape"
   ]
  },
  {
   "cell_type": "code",
   "execution_count": 37,
   "id": "de8d753a",
   "metadata": {},
   "outputs": [
    {
     "name": "stdout",
     "output_type": "stream",
     "text": [
      "1/1 [==============================] - 1s 848ms/step\n"
     ]
    }
   ],
   "source": [
    "# predictions made\n",
    "classes, coords = digit_tracker.predict(X)"
   ]
  },
  {
   "cell_type": "code",
   "execution_count": 38,
   "id": "eb17177b",
   "metadata": {},
   "outputs": [
    {
     "data": {
      "text/plain": [
       "(array([[0.43858957],\n",
       "        [0.41069654],\n",
       "        [0.41278687],\n",
       "        [0.43101484],\n",
       "        [0.4244831 ],\n",
       "        [0.4364525 ],\n",
       "        [0.42357504],\n",
       "        [0.47835624]], dtype=float32),\n",
       " array([[0.44179225, 0.6740321 , 0.65370125, 0.3791789 ],\n",
       "        [0.4889926 , 0.6481143 , 0.65946466, 0.36210197],\n",
       "        [0.45310333, 0.6266855 , 0.6740219 , 0.38017803],\n",
       "        [0.4674959 , 0.66772497, 0.6412223 , 0.37881118],\n",
       "        [0.47020918, 0.65910256, 0.670323  , 0.38834512],\n",
       "        [0.47828388, 0.6729715 , 0.69300467, 0.3824055 ],\n",
       "        [0.4624627 , 0.6809786 , 0.6795659 , 0.39860338],\n",
       "        [0.4646361 , 0.65415233, 0.65767807, 0.36948177]], dtype=float32))"
      ]
     },
     "execution_count": 38,
     "metadata": {},
     "output_type": "execute_result"
    }
   ],
   "source": [
    "# classes and bounding boxes returned\n",
    "classes, coords"
   ]
  },
  {
   "cell_type": "code",
   "execution_count": 39,
   "id": "5b9ee26b",
   "metadata": {},
   "outputs": [],
   "source": [
    "batches_per_epoch = len(train)\n",
    "lr_decay = (1./0.75 -1)/batches_per_epoch"
   ]
  },
  {
   "cell_type": "code",
   "execution_count": 40,
   "id": "6ee2cc9b",
   "metadata": {},
   "outputs": [],
   "source": [
    "opt = tf.keras.optimizers.Adam(learning_rate=0.0001, decay=lr_decay)"
   ]
  },
  {
   "cell_type": "code",
   "execution_count": 41,
   "id": "e85ed9fe",
   "metadata": {},
   "outputs": [],
   "source": [
    "# localisation loss is calculated\n",
    "def localization_loss(y_true, yhat):  \n",
    "    # y_true is the correct bounding box\n",
    "    # yhat is the predicted bounding box\n",
    "    delta_coord = tf.reduce_sum(tf.square(y_true[:,:2] - yhat[:,:2]))\n",
    "         \n",
    "    # h_true is the true height\n",
    "    # w_true is the true width\n",
    "    h_true = y_true[:,3] - y_true[:,1] \n",
    "    w_true = y_true[:,2] - y_true[:,0] \n",
    "\n",
    "    # h_pred is the predicted height\n",
    "    # w_pred is the predicted width\n",
    "    h_pred = yhat[:,3] - yhat[:,1] \n",
    "    w_pred = yhat[:,2] - yhat[:,0] \n",
    "    \n",
    "    delta_size = tf.reduce_sum(tf.square(w_true - w_pred) + tf.square(h_true-h_pred))\n",
    "    \n",
    "    return delta_coord + delta_size\n"
   ]
  },
  {
   "cell_type": "code",
   "execution_count": 42,
   "id": "253c2aa4",
   "metadata": {},
   "outputs": [],
   "source": [
    "classloss = tf.keras.losses.BinaryCrossentropy()\n",
    "regressloss = localization_loss"
   ]
  },
  {
   "cell_type": "code",
   "execution_count": 43,
   "id": "01e64dbc",
   "metadata": {},
   "outputs": [
    {
     "data": {
      "text/plain": [
       "<tf.Tensor: shape=(), dtype=float32, numpy=9.857774>"
      ]
     },
     "execution_count": 43,
     "metadata": {},
     "output_type": "execute_result"
    }
   ],
   "source": [
    "# the next training data coordinates, and the predicted bounding box values of the X image is passed as input\n",
    "localization_loss(y[1], coords)"
   ]
  },
  {
   "cell_type": "code",
   "execution_count": 44,
   "id": "f66cb3a5",
   "metadata": {},
   "outputs": [
    {
     "data": {
      "text/plain": [
       "<tf.Tensor: shape=(), dtype=float32, numpy=0.84036374>"
      ]
     },
     "execution_count": 44,
     "metadata": {},
     "output_type": "execute_result"
    }
   ],
   "source": [
    "# the next training data image, and the predicted class  of the X image is passed as input\n",
    "classloss(y[0], classes)"
   ]
  },
  {
   "cell_type": "code",
   "execution_count": 45,
   "id": "21c6ec40",
   "metadata": {},
   "outputs": [
    {
     "data": {
      "text/plain": [
       "<tf.Tensor: shape=(), dtype=float32, numpy=9.857774>"
      ]
     },
     "execution_count": 45,
     "metadata": {},
     "output_type": "execute_result"
    }
   ],
   "source": [
    "# the next training data coordinates, and the predicted bounding box values of the X image is passed as input\n",
    "regressloss(y[1], coords)"
   ]
  },
  {
   "cell_type": "code",
   "execution_count": 46,
   "id": "2cb0791a",
   "metadata": {},
   "outputs": [],
   "source": [
    "# method contains the training and testing methods\n",
    "class Digit_Tracker(Model): \n",
    "    def __init__(self, digit_tracker,  **kwargs): \n",
    "        super().__init__(**kwargs)\n",
    "        self.model = digit_tracker\n",
    "\n",
    "    def compile(self, opt, classloss, localizationloss, **kwargs):\n",
    "        super().compile(**kwargs)\n",
    "        self.closs = classloss\n",
    "        self.lloss = localizationloss\n",
    "        self.opt = opt\n",
    "    \n",
    "    def train_step(self, batch, **kwargs): \n",
    "        \n",
    "        X, y = batch\n",
    "        \n",
    "        with tf.GradientTape() as tape: \n",
    "            classes, coords = self.model(X, training=True)\n",
    "            \n",
    "            batch_classloss = self.closs(y[0], classes)\n",
    "            batch_localizationloss = self.lloss(tf.cast(y[1], tf.float32), coords)\n",
    "            \n",
    "            total_loss = batch_localizationloss+0.5*batch_classloss\n",
    "            \n",
    "            grad = tape.gradient(total_loss, self.model.trainable_variables)\n",
    "        \n",
    "        opt.apply_gradients(zip(grad, self.model.trainable_variables))\n",
    "        \n",
    "        return {\"total_loss\":total_loss, \"class_loss\":batch_classloss, \"regress_loss\":batch_localizationloss}\n",
    "    \n",
    "    def test_step(self, batch, **kwargs): \n",
    "        X, y = batch\n",
    "        \n",
    "        classes, coords = self.model(X, training=False)\n",
    "        \n",
    "        batch_classloss = self.closs(y[0], classes)\n",
    "        batch_localizationloss = self.lloss(tf.cast(y[1], tf.float32), coords)\n",
    "        total_loss = batch_localizationloss+0.5*batch_classloss\n",
    "        \n",
    "        return {\"total_loss\":total_loss, \"class_loss\":batch_classloss, \"regress_loss\":batch_localizationloss}\n",
    "        \n",
    "    def call(self, X, **kwargs): \n",
    "        return self.model(X, **kwargs)"
   ]
  },
  {
   "cell_type": "code",
   "execution_count": 47,
   "id": "cf100f4f",
   "metadata": {},
   "outputs": [],
   "source": [
    "# Digit Detector model is assigned to the 'model' variable\n",
    "model = Digit_Tracker(digit_tracker)"
   ]
  },
  {
   "cell_type": "code",
   "execution_count": 48,
   "id": "3fbfaebc",
   "metadata": {},
   "outputs": [],
   "source": [
    "# model is compiled\n",
    "model.compile(opt, classloss, regressloss)"
   ]
  },
  {
   "cell_type": "code",
   "execution_count": 49,
   "id": "fafb9f4b",
   "metadata": {},
   "outputs": [
    {
     "name": "stdout",
     "output_type": "stream",
     "text": [
      "Epoch 1/50\n",
      "16/16 [==============================] - 31s 2s/step - total_loss: 1.2574 - class_loss: 0.1759 - regress_loss: 1.1695 - val_total_loss: 0.0315 - val_class_loss: 4.6971e-04 - val_regress_loss: 0.0312\n",
      "Epoch 2/50\n",
      "16/16 [==============================] - 28s 2s/step - total_loss: 0.2232 - class_loss: 0.0909 - regress_loss: 0.1777 - val_total_loss: 0.0382 - val_class_loss: 0.0309 - val_regress_loss: 0.0227\n",
      "Epoch 3/50\n",
      "16/16 [==============================] - 29s 2s/step - total_loss: 0.1512 - class_loss: 0.0814 - regress_loss: 0.1105 - val_total_loss: 0.0268 - val_class_loss: 0.0042 - val_regress_loss: 0.0246\n",
      "Epoch 4/50\n",
      "16/16 [==============================] - 30s 2s/step - total_loss: 0.1226 - class_loss: 0.0717 - regress_loss: 0.0868 - val_total_loss: 0.0110 - val_class_loss: 3.9121e-04 - val_regress_loss: 0.0108\n",
      "Epoch 5/50\n",
      "16/16 [==============================] - 31s 2s/step - total_loss: 0.1148 - class_loss: 0.0707 - regress_loss: 0.0795 - val_total_loss: 0.3590 - val_class_loss: 0.4773 - val_regress_loss: 0.1204\n",
      "Epoch 6/50\n",
      "16/16 [==============================] - 31s 2s/step - total_loss: 0.0974 - class_loss: 0.0629 - regress_loss: 0.0659 - val_total_loss: 0.0713 - val_class_loss: 0.0561 - val_regress_loss: 0.0432\n",
      "Epoch 7/50\n",
      "16/16 [==============================] - 31s 2s/step - total_loss: 0.0903 - class_loss: 0.0600 - regress_loss: 0.0603 - val_total_loss: 0.0252 - val_class_loss: 0.0195 - val_regress_loss: 0.0155\n",
      "Epoch 8/50\n",
      "16/16 [==============================] - 32s 2s/step - total_loss: 0.0802 - class_loss: 0.0534 - regress_loss: 0.0534 - val_total_loss: 0.0357 - val_class_loss: 0.0277 - val_regress_loss: 0.0218\n",
      "Epoch 9/50\n",
      "16/16 [==============================] - 32s 2s/step - total_loss: 0.0742 - class_loss: 0.0558 - regress_loss: 0.0463 - val_total_loss: 0.0049 - val_class_loss: 4.5837e-05 - val_regress_loss: 0.0049\n",
      "Epoch 10/50\n",
      "16/16 [==============================] - 32s 2s/step - total_loss: 0.0544 - class_loss: 0.0372 - regress_loss: 0.0358 - val_total_loss: 0.0134 - val_class_loss: 0.0032 - val_regress_loss: 0.0118\n",
      "Epoch 11/50\n",
      "16/16 [==============================] - 32s 2s/step - total_loss: 0.0885 - class_loss: 0.0644 - regress_loss: 0.0562 - val_total_loss: 0.0101 - val_class_loss: 4.7706e-04 - val_regress_loss: 0.0098\n",
      "Epoch 12/50\n",
      "16/16 [==============================] - 32s 2s/step - total_loss: 0.0791 - class_loss: 0.0581 - regress_loss: 0.0501 - val_total_loss: 0.0172 - val_class_loss: 2.1298e-04 - val_regress_loss: 0.0171\n",
      "Epoch 13/50\n",
      "16/16 [==============================] - 33s 2s/step - total_loss: 0.0579 - class_loss: 0.0424 - regress_loss: 0.0367 - val_total_loss: 0.0246 - val_class_loss: 0.0055 - val_regress_loss: 0.0218\n",
      "Epoch 14/50\n",
      "16/16 [==============================] - 33s 2s/step - total_loss: 0.0548 - class_loss: 0.0411 - regress_loss: 0.0342 - val_total_loss: 0.0249 - val_class_loss: 0.0080 - val_regress_loss: 0.0209\n",
      "Epoch 15/50\n",
      "16/16 [==============================] - 33s 2s/step - total_loss: 0.0518 - class_loss: 0.0389 - regress_loss: 0.0323 - val_total_loss: 0.0120 - val_class_loss: 4.8698e-05 - val_regress_loss: 0.0120\n",
      "Epoch 16/50\n",
      "16/16 [==============================] - 33s 2s/step - total_loss: 0.0414 - class_loss: 0.0292 - regress_loss: 0.0268 - val_total_loss: 0.0052 - val_class_loss: 4.1784e-05 - val_regress_loss: 0.0052\n",
      "Epoch 17/50\n",
      "16/16 [==============================] - 33s 2s/step - total_loss: 0.0366 - class_loss: 0.0273 - regress_loss: 0.0230 - val_total_loss: 0.0069 - val_class_loss: 7.1975e-05 - val_regress_loss: 0.0069\n",
      "Epoch 18/50\n",
      "16/16 [==============================] - 33s 2s/step - total_loss: 0.0276 - class_loss: 0.0183 - regress_loss: 0.0184 - val_total_loss: 0.0083 - val_class_loss: 4.6612e-05 - val_regress_loss: 0.0082\n",
      "Epoch 19/50\n",
      "16/16 [==============================] - 33s 2s/step - total_loss: 0.0229 - class_loss: 0.0162 - regress_loss: 0.0148 - val_total_loss: 0.0134 - val_class_loss: 3.9996e-05 - val_regress_loss: 0.0133\n",
      "Epoch 20/50\n",
      "16/16 [==============================] - 33s 2s/step - total_loss: 0.0190 - class_loss: 0.0105 - regress_loss: 0.0137 - val_total_loss: 0.0105 - val_class_loss: 1.1444e-05 - val_regress_loss: 0.0105\n",
      "Epoch 21/50\n",
      "16/16 [==============================] - 33s 2s/step - total_loss: 0.0158 - class_loss: 0.0093 - regress_loss: 0.0112 - val_total_loss: 3.0819 - val_class_loss: 5.1310 - val_regress_loss: 0.5163\n",
      "Epoch 22/50\n",
      "16/16 [==============================] - 33s 2s/step - total_loss: 0.0140 - class_loss: 0.0076 - regress_loss: 0.0102 - val_total_loss: 0.0025 - val_class_loss: 1.4931e-05 - val_regress_loss: 0.0025\n",
      "Epoch 23/50\n",
      "16/16 [==============================] - 33s 2s/step - total_loss: 0.0115 - class_loss: 0.0050 - regress_loss: 0.0089 - val_total_loss: 0.0133 - val_class_loss: 5.5188e-04 - val_regress_loss: 0.0130\n",
      "Epoch 24/50\n",
      "16/16 [==============================] - 33s 2s/step - total_loss: 0.0107 - class_loss: 0.0053 - regress_loss: 0.0080 - val_total_loss: 0.0132 - val_class_loss: 2.2680e-05 - val_regress_loss: 0.0132\n",
      "Epoch 25/50\n",
      "16/16 [==============================] - 33s 2s/step - total_loss: 0.0090 - class_loss: 0.0044 - regress_loss: 0.0068 - val_total_loss: 0.0041 - val_class_loss: 1.7733e-05 - val_regress_loss: 0.0041\n",
      "Epoch 26/50\n",
      "16/16 [==============================] - 33s 2s/step - total_loss: 0.0069 - class_loss: 0.0030 - regress_loss: 0.0054 - val_total_loss: 0.0052 - val_class_loss: 1.6093e-05 - val_regress_loss: 0.0052\n",
      "Epoch 27/50\n",
      "16/16 [==============================] - 33s 2s/step - total_loss: 0.0072 - class_loss: 0.0033 - regress_loss: 0.0055 - val_total_loss: 0.0080 - val_class_loss: 3.0676e-04 - val_regress_loss: 0.0078\n",
      "Epoch 28/50\n",
      "16/16 [==============================] - 34s 2s/step - total_loss: 0.0065 - class_loss: 0.0023 - regress_loss: 0.0053 - val_total_loss: 0.0057 - val_class_loss: 2.0385e-05 - val_regress_loss: 0.0057\n",
      "Epoch 29/50\n",
      "16/16 [==============================] - 34s 2s/step - total_loss: 0.0059 - class_loss: 0.0027 - regress_loss: 0.0046 - val_total_loss: 0.0053 - val_class_loss: 1.1087e-05 - val_regress_loss: 0.0053\n",
      "Epoch 30/50\n",
      "16/16 [==============================] - 34s 2s/step - total_loss: 0.0051 - class_loss: 0.0019 - regress_loss: 0.0042 - val_total_loss: 0.0065 - val_class_loss: 2.8551e-05 - val_regress_loss: 0.0065\n",
      "Epoch 31/50\n",
      "16/16 [==============================] - 34s 2s/step - total_loss: 0.0045 - class_loss: 0.0016 - regress_loss: 0.0037 - val_total_loss: 0.0063 - val_class_loss: 7.6294e-06 - val_regress_loss: 0.0063\n",
      "Epoch 32/50\n",
      "16/16 [==============================] - 34s 2s/step - total_loss: 0.0043 - class_loss: 0.0015 - regress_loss: 0.0035 - val_total_loss: 0.0083 - val_class_loss: 5.6029e-06 - val_regress_loss: 0.0083\n",
      "Epoch 33/50\n",
      "16/16 [==============================] - 33s 2s/step - total_loss: 0.0040 - class_loss: 0.0014 - regress_loss: 0.0033 - val_total_loss: 0.0073 - val_class_loss: 1.1712e-05 - val_regress_loss: 0.0073\n",
      "Epoch 34/50\n",
      "16/16 [==============================] - 34s 2s/step - total_loss: 0.0035 - class_loss: 0.0013 - regress_loss: 0.0029 - val_total_loss: 0.0061 - val_class_loss: 6.8844e-06 - val_regress_loss: 0.0061\n",
      "Epoch 35/50\n",
      "16/16 [==============================] - 34s 2s/step - total_loss: 0.0038 - class_loss: 0.0012 - regress_loss: 0.0032 - val_total_loss: 0.0085 - val_class_loss: 1.9319e-04 - val_regress_loss: 0.0084\n",
      "Epoch 36/50\n",
      "16/16 [==============================] - 34s 2s/step - total_loss: 0.0034 - class_loss: 0.0011 - regress_loss: 0.0029 - val_total_loss: 0.0039 - val_class_loss: 1.4250e-04 - val_regress_loss: 0.0038\n",
      "Epoch 37/50\n",
      "16/16 [==============================] - 34s 2s/step - total_loss: 0.0035 - class_loss: 0.0013 - regress_loss: 0.0029 - val_total_loss: 0.0032 - val_class_loss: 1.4760e-04 - val_regress_loss: 0.0031\n",
      "Epoch 38/50\n",
      "16/16 [==============================] - 34s 2s/step - total_loss: 0.0032 - class_loss: 9.5763e-04 - regress_loss: 0.0028 - val_total_loss: 3.4599 - val_class_loss: 5.9199 - val_regress_loss: 0.5000\n",
      "Epoch 39/50\n",
      "16/16 [==============================] - 34s 2s/step - total_loss: 0.0033 - class_loss: 0.0012 - regress_loss: 0.0027 - val_total_loss: 0.0171 - val_class_loss: 8.4639e-06 - val_regress_loss: 0.0171\n",
      "Epoch 40/50\n"
     ]
    },
    {
     "name": "stdout",
     "output_type": "stream",
     "text": [
      "16/16 [==============================] - 34s 2s/step - total_loss: 0.0030 - class_loss: 8.7309e-04 - regress_loss: 0.0025 - val_total_loss: 0.0098 - val_class_loss: 4.6790e-06 - val_regress_loss: 0.0098\n",
      "Epoch 41/50\n",
      "16/16 [==============================] - 34s 2s/step - total_loss: 0.0028 - class_loss: 8.0543e-04 - regress_loss: 0.0024 - val_total_loss: 0.0158 - val_class_loss: 1.4289e-04 - val_regress_loss: 0.0158\n",
      "Epoch 42/50\n",
      "16/16 [==============================] - 34s 2s/step - total_loss: 0.0024 - class_loss: 7.6331e-04 - regress_loss: 0.0021 - val_total_loss: 3.5165 - val_class_loss: 6.0254 - val_regress_loss: 0.5038\n",
      "Epoch 43/50\n",
      "16/16 [==============================] - 34s 2s/step - total_loss: 0.0025 - class_loss: 9.2785e-04 - regress_loss: 0.0020 - val_total_loss: 0.0114 - val_class_loss: 4.0829e-06 - val_regress_loss: 0.0114\n",
      "Epoch 44/50\n",
      "16/16 [==============================] - 34s 2s/step - total_loss: 0.0021 - class_loss: 6.8743e-04 - regress_loss: 0.0017 - val_total_loss: 0.0137 - val_class_loss: 1.9670e-06 - val_regress_loss: 0.0137\n",
      "Epoch 45/50\n",
      "16/16 [==============================] - 34s 2s/step - total_loss: 0.0023 - class_loss: 8.3218e-04 - regress_loss: 0.0018 - val_total_loss: 0.0054 - val_class_loss: 9.7672e-05 - val_regress_loss: 0.0053\n",
      "Epoch 46/50\n",
      "16/16 [==============================] - 34s 2s/step - total_loss: 0.0021 - class_loss: 6.2877e-04 - regress_loss: 0.0018 - val_total_loss: 0.0167 - val_class_loss: 4.0531e-06 - val_regress_loss: 0.0167\n",
      "Epoch 47/50\n",
      "16/16 [==============================] - 34s 2s/step - total_loss: 0.0019 - class_loss: 6.1216e-04 - regress_loss: 0.0016 - val_total_loss: 0.0050 - val_class_loss: 5.1558e-06 - val_regress_loss: 0.0050\n",
      "Epoch 48/50\n",
      "16/16 [==============================] - 34s 2s/step - total_loss: 0.0018 - class_loss: 5.7194e-04 - regress_loss: 0.0015 - val_total_loss: 0.0090 - val_class_loss: 0.0061 - val_regress_loss: 0.0060\n",
      "Epoch 49/50\n",
      "16/16 [==============================] - 34s 2s/step - total_loss: 0.0017 - class_loss: 5.3135e-04 - regress_loss: 0.0015 - val_total_loss: 0.0086 - val_class_loss: 2.5630e-06 - val_regress_loss: 0.0086\n",
      "Epoch 50/50\n",
      "16/16 [==============================] - 34s 2s/step - total_loss: 0.0018 - class_loss: 6.4832e-04 - regress_loss: 0.0014 - val_total_loss: 0.0097 - val_class_loss: 2.7716e-06 - val_regress_loss: 0.0097\n"
     ]
    }
   ],
   "source": [
    "# model is trained with 50 epochs\n",
    "hist = model.fit(train, epochs=50, validation_data=val)"
   ]
  },
  {
   "cell_type": "code",
   "execution_count": 50,
   "id": "7daaa24e",
   "metadata": {},
   "outputs": [
    {
     "data": {
      "text/plain": [
       "{'total_loss': [0.07647746801376343,\n",
       "  0.051143474876880646,\n",
       "  0.11254532635211945,\n",
       "  0.021667033433914185,\n",
       "  0.028074970468878746,\n",
       "  0.01143413782119751,\n",
       "  0.01203520130366087,\n",
       "  0.008408882655203342,\n",
       "  0.12215644121170044,\n",
       "  0.007259620353579521,\n",
       "  0.06571823358535767,\n",
       "  0.11484570801258087,\n",
       "  0.00635719858109951,\n",
       "  0.009113126434385777,\n",
       "  0.004080779384821653,\n",
       "  0.005022812634706497,\n",
       "  0.008371861651539803,\n",
       "  0.007036139722913504,\n",
       "  0.04197736829519272,\n",
       "  0.0035217697732150555,\n",
       "  0.005295104347169399,\n",
       "  0.026937294751405716,\n",
       "  0.004446097649633884,\n",
       "  0.018658945336937904,\n",
       "  0.016747023910284042,\n",
       "  0.0020738933235406876,\n",
       "  0.013138092122972012,\n",
       "  0.0018200527410954237,\n",
       "  0.011928165331482887,\n",
       "  0.0016580348601564765,\n",
       "  0.0014948046300560236,\n",
       "  0.0010518983472138643,\n",
       "  0.0019517389591783285,\n",
       "  0.0006712605245411396,\n",
       "  0.0024869386106729507,\n",
       "  0.0023298023734241724,\n",
       "  0.006438279524445534,\n",
       "  0.001320226932875812,\n",
       "  0.004762270487844944,\n",
       "  0.0016665197908878326,\n",
       "  0.001144883339293301,\n",
       "  0.0006292233010753989,\n",
       "  0.0040436843410134315,\n",
       "  0.00016906432574614882,\n",
       "  0.0042461189441382885,\n",
       "  0.0008237576694227755,\n",
       "  0.00027023066650144756,\n",
       "  0.0005021447432227433,\n",
       "  0.001212878036312759,\n",
       "  0.003121210727840662],\n",
       " 'class_loss': [0.02296721376478672,\n",
       "  0.002007401082664728,\n",
       "  0.06450369209051132,\n",
       "  0.0007269170018844306,\n",
       "  0.0006066001951694489,\n",
       "  0.000494572042953223,\n",
       "  0.0002241512993350625,\n",
       "  0.0002263430942548439,\n",
       "  0.13688279688358307,\n",
       "  6.462477904278785e-05,\n",
       "  0.061702024191617966,\n",
       "  0.15638254582881927,\n",
       "  5.776959369541146e-05,\n",
       "  0.00024996386491693556,\n",
       "  7.849414396332577e-05,\n",
       "  0.00011974975495832041,\n",
       "  0.00010499783093109727,\n",
       "  2.155727088393178e-05,\n",
       "  0.03822019323706627,\n",
       "  2.5501403797534294e-05,\n",
       "  1.803060331440065e-05,\n",
       "  0.021509824320673943,\n",
       "  3.043900323973503e-05,\n",
       "  0.014546693302690983,\n",
       "  0.012789121828973293,\n",
       "  1.3629734894493595e-05,\n",
       "  0.009220072999596596,\n",
       "  1.3440999282465782e-05,\n",
       "  0.007859905250370502,\n",
       "  1.0262002433591988e-05,\n",
       "  7.530093625973677e-06,\n",
       "  1.0202405974268913e-05,\n",
       "  1.215946667798562e-05,\n",
       "  5.582987796515226e-06,\n",
       "  5.861144018126652e-06,\n",
       "  8.334768608619925e-06,\n",
       "  0.004012330900877714,\n",
       "  1.1454142622824293e-05,\n",
       "  0.0033299021888524294,\n",
       "  0.00043182296212762594,\n",
       "  9.487138413533103e-06,\n",
       "  1.9441595213720575e-05,\n",
       "  0.002667462220415473,\n",
       "  2.5055267542484216e-05,\n",
       "  0.0024085904005914927,\n",
       "  2.303832479810808e-05,\n",
       "  5.702196631318657e-06,\n",
       "  0.00011119701230200008,\n",
       "  2.66234451373748e-06,\n",
       "  0.0019074734300374985],\n",
       " 'regress_loss': [0.06499385833740234,\n",
       "  0.05013977363705635,\n",
       "  0.08029348403215408,\n",
       "  0.021303575485944748,\n",
       "  0.02777167037129402,\n",
       "  0.011186852119863033,\n",
       "  0.011923125945031643,\n",
       "  0.008295711129903793,\n",
       "  0.05371503904461861,\n",
       "  0.007227308116853237,\n",
       "  0.034867219626903534,\n",
       "  0.036654431372880936,\n",
       "  0.006328313611447811,\n",
       "  0.008988144807517529,\n",
       "  0.0040415325202047825,\n",
       "  0.004962937906384468,\n",
       "  0.008319362998008728,\n",
       "  0.007025361061096191,\n",
       "  0.022867269814014435,\n",
       "  0.003509019035845995,\n",
       "  0.005286089144647121,\n",
       "  0.01618238165974617,\n",
       "  0.004430877976119518,\n",
       "  0.0113855991512537,\n",
       "  0.010352462530136108,\n",
       "  0.002067078370600939,\n",
       "  0.008528055623173714,\n",
       "  0.0018133322009816766,\n",
       "  0.007998213171958923,\n",
       "  0.0016529038548469543,\n",
       "  0.0014910395257174969,\n",
       "  0.0010467971442267299,\n",
       "  0.0019456591689959168,\n",
       "  0.0006684690597467124,\n",
       "  0.0024840079713612795,\n",
       "  0.002325634937733412,\n",
       "  0.004432113841176033,\n",
       "  0.001314499881118536,\n",
       "  0.0030973192770034075,\n",
       "  0.0014506083680316806,\n",
       "  0.001140139764174819,\n",
       "  0.000619502505287528,\n",
       "  0.0027099531143903732,\n",
       "  0.00015653669834136963,\n",
       "  0.003041823860257864,\n",
       "  0.0008122384897433221,\n",
       "  0.00026737956795841455,\n",
       "  0.0004465462116058916,\n",
       "  0.001211546827107668,\n",
       "  0.0021674740128219128],\n",
       " 'val_total_loss': [0.031470175832509995,\n",
       "  0.03817455843091011,\n",
       "  0.026765398681163788,\n",
       "  0.010961292311549187,\n",
       "  0.3590022921562195,\n",
       "  0.07125219702720642,\n",
       "  0.02521679177880287,\n",
       "  0.03565862774848938,\n",
       "  0.004876078572124243,\n",
       "  0.013397229835391045,\n",
       "  0.010085894726216793,\n",
       "  0.01718207076191902,\n",
       "  0.024552566930651665,\n",
       "  0.024877453222870827,\n",
       "  0.01197498943656683,\n",
       "  0.005195972044020891,\n",
       "  0.0069312904961407185,\n",
       "  0.008259601891040802,\n",
       "  0.013357585296034813,\n",
       "  0.010508604347705841,\n",
       "  3.0818707942962646,\n",
       "  0.002487835707142949,\n",
       "  0.01330616232007742,\n",
       "  0.013241189531981945,\n",
       "  0.004068249836564064,\n",
       "  0.005163897294551134,\n",
       "  0.007974880747497082,\n",
       "  0.005680806934833527,\n",
       "  0.005302448756992817,\n",
       "  0.0064736525528132915,\n",
       "  0.006292106583714485,\n",
       "  0.008328385651111603,\n",
       "  0.007317447569221258,\n",
       "  0.00608420092612505,\n",
       "  0.008469349704682827,\n",
       "  0.003889000741764903,\n",
       "  0.0031510526314377785,\n",
       "  3.4598958492279053,\n",
       "  0.01713646948337555,\n",
       "  0.009798038750886917,\n",
       "  0.01584021933376789,\n",
       "  3.516512155532837,\n",
       "  0.011356866918504238,\n",
       "  0.013745466247200966,\n",
       "  0.005369381979107857,\n",
       "  0.01665208488702774,\n",
       "  0.005000441800802946,\n",
       "  0.009010374546051025,\n",
       "  0.008625360205769539,\n",
       "  0.009702914394438267],\n",
       " 'val_class_loss': [0.00046970625407993793,\n",
       "  0.03094840981066227,\n",
       "  0.004242949187755585,\n",
       "  0.00039120687870308757,\n",
       "  0.47728827595710754,\n",
       "  0.056095026433467865,\n",
       "  0.01949411630630493,\n",
       "  0.027748052030801773,\n",
       "  4.583709960570559e-05,\n",
       "  0.0031931318808346987,\n",
       "  0.0004770626255776733,\n",
       "  0.0002129765780409798,\n",
       "  0.0054626623168587685,\n",
       "  0.00798112154006958,\n",
       "  4.869829353992827e-05,\n",
       "  4.178374001639895e-05,\n",
       "  7.197535887826234e-05,\n",
       "  4.661246566683985e-05,\n",
       "  3.9995647966861725e-05,\n",
       "  1.1444160918472335e-05,\n",
       "  5.13104772567749,\n",
       "  1.4931081750546582e-05,\n",
       "  0.0005518771940842271,\n",
       "  2.2679840185446665e-05,\n",
       "  1.7732538253767416e-05,\n",
       "  1.6093385056592524e-05,\n",
       "  0.0003067567013204098,\n",
       "  2.0385010429890826e-05,\n",
       "  1.1086525773862377e-05,\n",
       "  2.8551237846841104e-05,\n",
       "  7.629423635080457e-06,\n",
       "  5.602852979791351e-06,\n",
       "  1.1712383638950996e-05,\n",
       "  6.88436375639867e-06,\n",
       "  0.00019318530394230038,\n",
       "  0.00014250467938836664,\n",
       "  0.00014760199701413512,\n",
       "  5.91987419128418,\n",
       "  8.463896847388241e-06,\n",
       "  4.678976893046638e-06,\n",
       "  0.00014289235696196556,\n",
       "  6.025425434112549,\n",
       "  4.0829272620612755e-06,\n",
       "  1.9669553239509696e-06,\n",
       "  9.767151641426608e-05,\n",
       "  4.053125849168282e-06,\n",
       "  5.155818143975921e-06,\n",
       "  0.006099299527704716,\n",
       "  2.5630031359469285e-06,\n",
       "  2.7716198474081466e-06],\n",
       " 'val_regress_loss': [0.03123532235622406,\n",
       "  0.0227003525942564,\n",
       "  0.024643924087285995,\n",
       "  0.010765688493847847,\n",
       "  0.12035816162824631,\n",
       "  0.04320468008518219,\n",
       "  0.015469732694327831,\n",
       "  0.021784601733088493,\n",
       "  0.004853160120546818,\n",
       "  0.01180066354572773,\n",
       "  0.009847363457083702,\n",
       "  0.017075583338737488,\n",
       "  0.021821236237883568,\n",
       "  0.020886892452836037,\n",
       "  0.011950640007853508,\n",
       "  0.0051750801503658295,\n",
       "  0.0068953027948737144,\n",
       "  0.00823629554361105,\n",
       "  0.01333758793771267,\n",
       "  0.010502882301807404,\n",
       "  0.5163468718528748,\n",
       "  0.0024803702253848314,\n",
       "  0.013030223548412323,\n",
       "  0.013229849748313427,\n",
       "  0.004059383645653725,\n",
       "  0.005155850667506456,\n",
       "  0.007821502164006233,\n",
       "  0.005670614540576935,\n",
       "  0.005296905525028706,\n",
       "  0.006459376774728298,\n",
       "  0.00628829188644886,\n",
       "  0.00832558423280716,\n",
       "  0.007311591412872076,\n",
       "  0.006080758757889271,\n",
       "  0.008372756652534008,\n",
       "  0.003817748511210084,\n",
       "  0.0030772516038268805,\n",
       "  0.49995869398117065,\n",
       "  0.017132237553596497,\n",
       "  0.009795699268579483,\n",
       "  0.01576877385377884,\n",
       "  0.5037994384765625,\n",
       "  0.011354825459420681,\n",
       "  0.013744482770562172,\n",
       "  0.005320546217262745,\n",
       "  0.016650058329105377,\n",
       "  0.0049978638999164104,\n",
       "  0.00596072431653738,\n",
       "  0.008624078705906868,\n",
       "  0.009701528586447239]}"
      ]
     },
     "execution_count": 50,
     "metadata": {},
     "output_type": "execute_result"
    }
   ],
   "source": [
    "hist.history"
   ]
  },
  {
   "cell_type": "code",
   "execution_count": 51,
   "id": "08a10da4",
   "metadata": {},
   "outputs": [
    {
     "data": {
      "image/png": "[encoded data removed]",
      "text/plain": [
       "<Figure size 2000x500 with 3 Axes>"
      ]
     },
     "metadata": {},
     "output_type": "display_data"
    }
   ],
   "source": [
    "# Total loss, classification loss and regression loss graphics\n",
    "fig, ax = plt.subplots(ncols=3, figsize=(20,5))\n",
    "\n",
    "ax[0].plot(hist.history['total_loss'], color='teal', label='loss')\n",
    "ax[0].plot(hist.history['val_total_loss'], color='orange', label='val loss')\n",
    "ax[0].title.set_text('Loss')\n",
    "ax[0].legend()\n",
    "\n",
    "ax[1].plot(hist.history['class_loss'], color='teal', label='class loss')\n",
    "ax[1].plot(hist.history['val_class_loss'], color='orange', label='val class loss')\n",
    "ax[1].title.set_text('Classification Loss')\n",
    "ax[1].legend()\n",
    "\n",
    "ax[2].plot(hist.history['regress_loss'], color='teal', label='regress loss')\n",
    "ax[2].plot(hist.history['val_regress_loss'], color='orange', label='val regress loss')\n",
    "ax[2].title.set_text('Regression Loss')\n",
    "ax[2].legend()\n",
    "\n",
    "plt.show()"
   ]
  },
  {
   "cell_type": "code",
   "execution_count": 52,
   "id": "3547f8b9",
   "metadata": {},
   "outputs": [],
   "source": [
    "test_data = test.as_numpy_iterator()"
   ]
  },
  {
   "cell_type": "code",
   "execution_count": 53,
   "id": "4a6cced3",
   "metadata": {},
   "outputs": [],
   "source": [
    "test_sample = test_data.next()"
   ]
  },
  {
   "cell_type": "code",
   "execution_count": 54,
   "id": "3c3f10c0",
   "metadata": {},
   "outputs": [
    {
     "name": "stdout",
     "output_type": "stream",
     "text": [
      "1/1 [==============================] - 1s 566ms/step\n"
     ]
    }
   ],
   "source": [
    "yhat = digit_tracker.predict(test_sample[0])"
   ]
  },
  {
   "cell_type": "code",
   "execution_count": 55,
   "id": "de6ec5d7",
   "metadata": {},
   "outputs": [
    {
     "name": "stderr",
     "output_type": "stream",
     "text": [
      "Clipping input data to the valid range for imshow with RGB data ([0..1] for floats or [0..255] for integers).\n",
      "Clipping input data to the valid range for imshow with RGB data ([0..1] for floats or [0..255] for integers).\n",
      "Clipping input data to the valid range for imshow with RGB data ([0..1] for floats or [0..255] for integers).\n",
      "Clipping input data to the valid range for imshow with RGB data ([0..1] for floats or [0..255] for integers).\n"
     ]
    },
    {
     "data": {
      "image/png": "[encoded data removed]",
      "text/plain": [
       "<Figure size 2000x2000 with 4 Axes>"
      ]
     },
     "metadata": {},
     "output_type": "display_data"
    }
   ],
   "source": [
    "# shows the testing data predictions \n",
    "fig, ax = plt.subplots(ncols=4, figsize=(20,20))\n",
    "for idx in range(4): \n",
    "    sample_image = test_sample[0][idx]\n",
    "    sample_coords = yhat[1][idx]\n",
    "    \n",
    "    if yhat[0][idx] > 0.9:\n",
    "        cv2.rectangle(sample_image, \n",
    "                      tuple(np.multiply(sample_coords[:2], [120,120]).astype(int)),\n",
    "                      tuple(np.multiply(sample_coords[2:], [120,120]).astype(int)), \n",
    "                            (255,0,0), 2)\n",
    "    \n",
    "    ax[idx].imshow(sample_image)"
   ]
  },
  {
   "cell_type": "code",
   "execution_count": 60,
   "id": "8cb80351",
   "metadata": {},
   "outputs": [
    {
     "name": "stdout",
     "output_type": "stream",
     "text": [
      "1/1 [==============================] - 0s 90ms/step\n"
     ]
    },
    {
     "data": {
      "image/png": "[encoded data removed]",
      "text/plain": [
       "<Figure size 640x480 with 1 Axes>"
      ]
     },
     "metadata": {},
     "output_type": "display_data"
    }
   ],
   "source": [
    "# first reads the image file, then converts white background to black and black digit to white. Resizes it to 120x120 pixels\n",
    "# saves the image, divides the each of pixel values to 255\n",
    "img = cv2.imread('one1.jpeg')\n",
    "ret, img = cv2.threshold(img, 127, 255, cv2.THRESH_BINARY_INV)\n",
    "\n",
    "img = cv2.resize(img, (120, 120), interpolation = cv2.INTER_AREA)\n",
    "\n",
    "cv2.imwrite('one1.jpeg', img)\n",
    "    \n",
    "img = cv2.imread('one1.jpeg')\n",
    "# predictions made\n",
    "yhat = digit_tracker.predict(np.expand_dims(img/255,0))\n",
    "sample_coords = yhat[1][0]\n",
    "\n",
    "# if the predicted classification rate is greater than 0.5, adds the localisation rectangle.\n",
    "if yhat[0] > 0.5: \n",
    "    \n",
    "    # adds rectangle around the digit\n",
    "    cv2.rectangle(img, \n",
    "                  tuple(np.multiply(sample_coords[:2], [img.shape[1], img.shape[0]]).astype(int)),\n",
    "                  tuple(np.multiply(sample_coords[2:], [img.shape[1], img.shape[0]]).astype(int)), \n",
    "                  (255,0,0), 2)\n",
    "    \n",
    "    # label rectangle\n",
    "    cv2.rectangle(img, \n",
    "                  tuple(np.add(np.multiply(sample_coords[:2], [img.shape[1], img.shape[0]]).astype(int), [0,-30])),\n",
    "                  tuple(np.add(np.multiply(sample_coords[:2], [img.shape[1], img.shape[0]]).astype(int), [80,0])), \n",
    "                  (255,0,0), -1)\n",
    "\n",
    "    # text of the classification\n",
    "    cv2.putText(img, '1 (one)', tuple(np.add(np.multiply(sample_coords[:2], [img.shape[1], img.shape[0]]).astype(int), [-5,-5])),\n",
    "                cv2.FONT_HERSHEY_SIMPLEX, 1, (255,255,255), 2, cv2.LINE_AA)\n",
    "    \n",
    "    plt.imshow(img)"
   ]
  },
  {
   "cell_type": "code",
   "execution_count": 61,
   "id": "7aa2a023",
   "metadata": {},
   "outputs": [
    {
     "name": "stdout",
     "output_type": "stream",
     "text": [
      "1/1 [==============================] - 0s 125ms/step\n"
     ]
    },
    {
     "data": {
      "image/png": "[encoded data removed]",
      "text/plain": [
       "<Figure size 640x480 with 1 Axes>"
      ]
     },
     "metadata": {},
     "output_type": "display_data"
    }
   ],
   "source": [
    "# same process as above\n",
    "img = cv2.imread('one2.jpeg')\n",
    "ret, img = cv2.threshold(img, 127, 255, cv2.THRESH_BINARY_INV)\n",
    "\n",
    "img = cv2.resize(img, (120, 120), interpolation = cv2.INTER_AREA)\n",
    "\n",
    "cv2.imwrite('one2.jpeg', img)\n",
    "    \n",
    "img = cv2.imread('one2.jpeg')\n",
    "yhat = digit_tracker.predict(np.expand_dims(img/255,0))\n",
    "sample_coords = yhat[1][0]\n",
    "    \n",
    "if yhat[0] > 0.5: \n",
    "    # Controls the main rectangle\n",
    "    cv2.rectangle(img, \n",
    "                  tuple(np.multiply(sample_coords[:2], [img.shape[1], img.shape[0]]).astype(int)),\n",
    "                  tuple(np.multiply(sample_coords[2:], [img.shape[1], img.shape[0]]).astype(int)), \n",
    "                  (255,0,0), 2)\n",
    "    # Controls the label rectangle\n",
    "    cv2.rectangle(img, \n",
    "                  tuple(np.add(np.multiply(sample_coords[:2], [img.shape[1], img.shape[0]]).astype(int), [0,-30])),\n",
    "                  tuple(np.add(np.multiply(sample_coords[:2], [img.shape[1], img.shape[0]]).astype(int), [80,0])), \n",
    "                  (255,0,0), -1)\n",
    "\n",
    "    # Controls the text rendered\n",
    "    cv2.putText(img, '1 (one)', tuple(np.add(np.multiply(sample_coords[:2], [img.shape[1], img.shape[0]]).astype(int), [0,-5])),\n",
    "                cv2.FONT_HERSHEY_SIMPLEX, 1, (255,255,255), 2, cv2.LINE_AA)\n",
    "    \n",
    "    plt.imshow(img)"
   ]
  },
  {
   "cell_type": "code",
   "execution_count": 62,
   "id": "c893b37b",
   "metadata": {},
   "outputs": [
    {
     "name": "stdout",
     "output_type": "stream",
     "text": [
      "1/1 [==============================] - 0s 139ms/step\n"
     ]
    },
    {
     "data": {
      "image/png": "[encoded data removed]",
      "text/plain": [
       "<Figure size 640x480 with 1 Axes>"
      ]
     },
     "metadata": {},
     "output_type": "display_data"
    }
   ],
   "source": [
    "# same process as above\n",
    "img = cv2.imread('one4.jpeg')\n",
    "ret, img = cv2.threshold(img, 127, 255, cv2.THRESH_BINARY_INV)\n",
    "\n",
    "img = cv2.resize(img, (120, 120), interpolation = cv2.INTER_AREA)\n",
    "\n",
    "cv2.imwrite('one4.jpeg', img)\n",
    "    \n",
    "img = cv2.imread('one4.jpeg')\n",
    "yhat = digit_tracker.predict(np.expand_dims(img/255,0))\n",
    "sample_coords = yhat[1][0]\n",
    "    \n",
    "if yhat[0] > 0.5: \n",
    "    # Controls the main rectangle\n",
    "    cv2.rectangle(img, \n",
    "                  tuple(np.multiply(sample_coords[:2], [img.shape[1], img.shape[0]]).astype(int)),\n",
    "                  tuple(np.multiply(sample_coords[2:], [img.shape[1], img.shape[0]]).astype(int)), \n",
    "                  (255,0,0), 2)\n",
    "    # Controls the label rectangle\n",
    "    cv2.rectangle(img, \n",
    "                  tuple(np.add(np.multiply(sample_coords[:2], [img.shape[1], img.shape[0]]).astype(int), [0,-30])),\n",
    "                  tuple(np.add(np.multiply(sample_coords[:2], [img.shape[1], img.shape[0]]).astype(int), [80,0])), \n",
    "                  (255,0,0), -1)\n",
    "\n",
    "    # Controls the text rendered\n",
    "    cv2.putText(img, '1 (one)', tuple(np.add(np.multiply(sample_coords[:2], [img.shape[1], img.shape[0]]).astype(int), [0,-5])),\n",
    "                cv2.FONT_HERSHEY_SIMPLEX, 1, (255,255,255), 2, cv2.LINE_AA)\n",
    "    \n",
    "    plt.imshow(img)"
   ]
  },
  {
   "cell_type": "code",
   "execution_count": null,
   "id": "9580dffa",
   "metadata": {},
   "outputs": [],
   "source": []
  },
  {
   "cell_type": "code",
   "execution_count": null,
   "id": "f7312031",
   "metadata": {},
   "outputs": [],
   "source": []
  },
  {
   "cell_type": "code",
   "execution_count": null,
   "id": "fb6fd108",
   "metadata": {},
   "outputs": [],
   "source": []
  },
  {
   "cell_type": "code",
   "execution_count": null,
   "id": "153d1b4a",
   "metadata": {},
   "outputs": [],
   "source": []
  }
 ],
 "metadata": {
  "kernelspec": {
   "display_name": "final_year_project",
   "language": "python",
   "name": "final_year_project"
  },
  "language_info": {
   "codemirror_mode": {
    "name": "ipython",
    "version": 3
   },
   "file_extension": ".py",
   "mimetype": "text/x-python",
   "name": "python",
   "nbconvert_exporter": "python",
   "pygments_lexer": "ipython3",
   "version": "3.10.9"
  }
 },
 "nbformat": 4,
 "nbformat_minor": 5
}
